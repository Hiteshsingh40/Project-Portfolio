{
 "cells": [
  {
   "cell_type": "code",
   "execution_count": 1,
   "metadata": {},
   "outputs": [],
   "source": [
    "# import basic linrary\n",
    "import pandas as pd\n",
    "import numpy as np\n",
    "import matplotlib.pyplot as plt\n",
    "import seaborn as sns\n",
    "import warnings\n",
    "warnings.filterwarnings('ignore')\n"
   ]
  },
  {
   "cell_type": "code",
   "execution_count": null,
   "metadata": {},
   "outputs": [],
   "source": [
    "#import Baseball.csv file\n",
    "df=pd.read_csv('Baseball.csv')\n",
    "df"
   ]
  },
  {
   "cell_type": "code",
   "execution_count": 3,
   "metadata": {},
   "outputs": [
    {
     "data": {
      "text/plain": [
       "(30, 17)"
      ]
     },
     "execution_count": 3,
     "metadata": {},
     "output_type": "execute_result"
    }
   ],
   "source": [
    "df.shape"
   ]
  },
  {
   "cell_type": "code",
   "execution_count": null,
   "metadata": {},
   "outputs": [],
   "source": [
    "df.columns"
   ]
  },
  {
   "cell_type": "markdown",
   "metadata": {},
   "source": [
    "Remark: Baseball statistics play an important role in evaluating the progress of a player or team.\n",
    "        Describe all the feature according to different diffirent feature.\n",
    "    1. Batting statistics.\n",
    "    R – Runs scored: number of times a player crosses home plate.\n",
    "    AB – At bat: plate appearances, not including bases on balls, being hit by pitch, sacrifices, interference, or obstruction.\n",
    "    H – Hit: reaching base because of a batted, fair ball without error by the defense.\n",
    "    2B – Double: hits on which the batter reaches second base safely without the contribution of a fielding error.\n",
    "    3B – Triple: hits on which the batter reaches third base safely without the contribution of a fielding error.\n",
    "    BB – Base on balls (also called a \"walk\"): hitter not swinging at four pitches called out of the strike zone and awarded\n",
    "        first base.\n",
    "    PA/SO – Plate appearances per strikeout: number of times a batter strikes out to their plate appearance.\n",
    "    \n",
    "    2. Baserunning statistics.\n",
    "    SB – Stolen base: number of bases advanced by the runner while the ball is in the possession of the defense.\n",
    "    R – Runs scored: times reached home plate legally and safely.\n",
    "    \n",
    "    3. Pitching statistics.\n",
    "    BB – Base on balls (also called a \"walk\"): times pitching four balls, allowing the batter to take first base.\n",
    "    CG – Complete game: number of games where player was the only pitcher for his team.\n",
    "    ER – Earned run: number of runs that did not occur as a result of errors or passed balls.\n",
    "    ERA – Earned run average: total number of earned runs (see \"ER\" above), multiplied by 9, divided by innings pitched.\n",
    "    E – Errors: number of times a fielder fails to make a play he should have made with common effort, and the offense\n",
    "        benefits as a result.\n",
    "    SHO – Shutout: number of complete games pitched with no runs allowed.\n",
    "    SV – Save: number of games where the pitcher enters a game led by the pitcher's team, finishes the game without\n",
    "        surrendering the lead.\n",
    "    RA – Run average: number of runs allowed times nine divided by innings pitched.\n",
    "    \n",
    "    HR (or HRA) – Home runs allowed: total home runs allowed.\n",
    "    \n",
    "    \n",
    "    W – Win: number of games where pitcher was pitching while his team took the lead and went on to win, also the\n",
    "    starter needs to pitch at least 5 innings of work (also related: winning percentage)\n",
    "    \n",
    "    \n",
    "    "
   ]
  },
  {
   "cell_type": "code",
   "execution_count": null,
   "metadata": {},
   "outputs": [],
   "source": [
    "df.dtypes"
   ]
  },
  {
   "cell_type": "code",
   "execution_count": null,
   "metadata": {},
   "outputs": [],
   "source": [
    "df.info()"
   ]
  },
  {
   "cell_type": "markdown",
   "metadata": {},
   "source": [
    "Observation:\n",
    "    1. No missing value in any features.\n",
    "    2. 30 row with 17 columns in this datasdet.\n",
    "    4. All features are numeric only ERA is folat numeric type and other features are int data type.\n",
    "    5. Output: Number of predicted wins (W).\n",
    "    6. For predicting the number of wins a baseball team will attain -- based on the given input features, a linear \n",
    "        regression approach is neccessary. "
   ]
  },
  {
   "cell_type": "markdown",
   "metadata": {},
   "source": [
    "### To check missing value"
   ]
  },
  {
   "cell_type": "code",
   "execution_count": null,
   "metadata": {},
   "outputs": [],
   "source": [
    "df.isnull().sum()"
   ]
  },
  {
   "cell_type": "code",
   "execution_count": null,
   "metadata": {},
   "outputs": [],
   "source": [
    "sns.heatmap(df.isnull())\n",
    "plt.show()"
   ]
  },
  {
   "cell_type": "markdown",
   "metadata": {},
   "source": [
    "## Summary statistics"
   ]
  },
  {
   "cell_type": "code",
   "execution_count": null,
   "metadata": {},
   "outputs": [],
   "source": [
    "df.describe()"
   ]
  },
  {
   "cell_type": "markdown",
   "metadata": {},
   "source": [
    "Observation:\n",
    "    1. min value in all features less than 50% of all feature.\n",
    "    2. Standard deviation in SO is maximum and difference between 75% and max is also high.\n",
    "    3.Difference between 75% and max is normally in all feature not more ."
   ]
  },
  {
   "cell_type": "code",
   "execution_count": null,
   "metadata": {},
   "outputs": [],
   "source": [
    "#to check correlation\n",
    "df.corr()"
   ]
  },
  {
   "cell_type": "code",
   "execution_count": null,
   "metadata": {},
   "outputs": [],
   "source": [
    "plt.figure(figsize=(15,15))\n",
    "sns.heatmap(df.corr(),cmap='rocket',annot=True)"
   ]
  },
  {
   "cell_type": "markdown",
   "metadata": {},
   "source": [
    "Observation:\n",
    "    1. Light shades are highly correlated .\n",
    "    2. W are higly negatively correlated with RA,ER,ERA and higly positive correlated with SV.\n",
    "    3. W are postively correlated with SV,SHO,BB,HR,2B,R.\n",
    "    4. RA,ER,ERA higly postive correlated with each other.\n",
    "    5. SV and SHO both are negatively correlated with RA,ER,ERA"
   ]
  },
  {
   "cell_type": "markdown",
   "metadata": {},
   "source": [
    "## Exploring data variable"
   ]
  },
  {
   "cell_type": "code",
   "execution_count": null,
   "metadata": {},
   "outputs": [],
   "source": [
    "#Univariate analysis of postive coorelated featuers\n",
    "sns.set(style='whitegrid')\n",
    "sns.violinplot(x='SV',data=df)\n",
    "plt.title(\"Number of games where the pitcher enters a game led by the pitcher's team\")\n",
    "plt.show()"
   ]
  },
  {
   "cell_type": "markdown",
   "metadata": {},
   "source": [
    "Obervation:wining changes increse when SV value 40to 45."
   ]
  },
  {
   "cell_type": "code",
   "execution_count": null,
   "metadata": {},
   "outputs": [],
   "source": [
    "sns.set(style='whitegrid')\n",
    "sns.violinplot(x='SHO',data=df)\n",
    "plt.title(\"Number of complete games pitched with no runs allowed\")\n",
    "plt.show()"
   ]
  },
  {
   "cell_type": "code",
   "execution_count": null,
   "metadata": {},
   "outputs": [],
   "source": [
    "sns.set(style='whitegrid')\n",
    "sns.violinplot(x='R',data=df)\n",
    "plt.title(\"Runs scored: number of times a player crosses home plate\")\n",
    "plt.show()"
   ]
  },
  {
   "cell_type": "code",
   "execution_count": null,
   "metadata": {},
   "outputs": [],
   "source": [
    "sns.set(style='whitegrid')\n",
    "sns.violinplot(x='2B',data=df)\n",
    "plt.title(\"Double: hits on which the batter reaches second base safely without the contribution of a fielding error\")\n",
    "plt.show()"
   ]
  },
  {
   "cell_type": "markdown",
   "metadata": {},
   "source": [
    "Observation: When winning changes increase some feathures value given below.\n",
    "    1. SV- value between 40 to 45.\n",
    "    2. SHO- score between 10 to 12.\n",
    "    3. R- score between 680 to 700.\n",
    "    4. 2B-score between 270 to 280.\n",
    "    "
   ]
  },
  {
   "cell_type": "code",
   "execution_count": null,
   "metadata": {},
   "outputs": [],
   "source": [
    "#Univariate analysis of negatively correlated with W\n",
    "sns.set(style='whitegrid')\n",
    "sns.violinplot(x='RA',data=df)\n",
    "plt.title(\"Run average: number of runs allowed times nine divided by innings pitched\")\n",
    "plt.show()"
   ]
  },
  {
   "cell_type": "code",
   "execution_count": null,
   "metadata": {},
   "outputs": [],
   "source": [
    "#Univariate analysis of negatively correlated with W\n",
    "sns.set(style='whitegrid')\n",
    "sns.violinplot(x='ERA',data=df)\n",
    "plt.title(\"Earned run average\")\n",
    "plt.show()"
   ]
  },
  {
   "cell_type": "code",
   "execution_count": null,
   "metadata": {},
   "outputs": [],
   "source": [
    "#Univariate analysis of negatively correlated with W\n",
    "sns.set(style='whitegrid')\n",
    "sns.violinplot(x='ER',data=df)\n",
    "plt.title(\"Earned run: number of runs that did not occur as a result of errors or passed balls\")\n",
    "plt.show()"
   ]
  },
  {
   "cell_type": "markdown",
   "metadata": {},
   "source": [
    "Observation: When wining percentage decrease some feature value are draw with above negatively correlated with W.\n",
    "    1. RA-score 680 to 700.\n",
    "    2. ERA-approximately 4.\n",
    "    3. ER-score 630 to 650."
   ]
  },
  {
   "cell_type": "markdown",
   "metadata": {},
   "source": [
    "### Bivariate Analysis"
   ]
  },
  {
   "cell_type": "code",
   "execution_count": null,
   "metadata": {},
   "outputs": [],
   "source": [
    "# lets check the how Er is changing with respect to RA\n",
    "\n",
    "sns.lineplot(x=df['ER'],y=df['RA'],data=df)\n",
    "plt.show()\n",
    "# The below graph clearly show that with increase in ER their is increase in RA too"
   ]
  },
  {
   "cell_type": "code",
   "execution_count": null,
   "metadata": {},
   "outputs": [],
   "source": [
    "# lets check the how W is changing with respect to ER\n",
    "\n",
    "sns.lineplot(x=df['ER'],y=df['W'],data=df)\n",
    "plt.show()\n",
    "# The below graph clearly show that with decrease in ER their is increase in W "
   ]
  },
  {
   "cell_type": "code",
   "execution_count": 21,
   "metadata": {},
   "outputs": [],
   "source": [
    "#Bivariate Analysis of postive correlated Featuhe with w"
   ]
  },
  {
   "cell_type": "code",
   "execution_count": null,
   "metadata": {},
   "outputs": [],
   "source": [
    "plt.scatter(df['SV'],df['W'])\n",
    "plt.show()"
   ]
  },
  {
   "cell_type": "markdown",
   "metadata": {},
   "source": [
    "Observation: winning percentage is more when SV value is more than 42 and minimum when SV value below than 45."
   ]
  },
  {
   "cell_type": "code",
   "execution_count": null,
   "metadata": {},
   "outputs": [],
   "source": [
    "plt.scatter(df['SHO'],df['W'])\n",
    "plt.show()"
   ]
  },
  {
   "cell_type": "code",
   "execution_count": null,
   "metadata": {},
   "outputs": [],
   "source": [
    "plt.scatter(df['R'],df['W'])\n",
    "plt.show()"
   ]
  },
  {
   "cell_type": "code",
   "execution_count": null,
   "metadata": {},
   "outputs": [],
   "source": [
    "plt.scatter(df['2B'],df['W'])\n",
    "plt.show()"
   ]
  },
  {
   "cell_type": "code",
   "execution_count": 26,
   "metadata": {},
   "outputs": [],
   "source": [
    "#Bivariate analysis of negativel coorelated feature with w"
   ]
  },
  {
   "cell_type": "code",
   "execution_count": null,
   "metadata": {},
   "outputs": [],
   "source": [
    "plt.scatter(df['RA'],df['W'])\n",
    "plt.show()"
   ]
  },
  {
   "cell_type": "markdown",
   "metadata": {},
   "source": [
    "Observation: when RA value is more than 670 than winning percentage is approx less than 50.\n",
    "    2. RA value beow from 630 than winning changes increase simultaneously and approx 520 RA value is maximum."
   ]
  },
  {
   "cell_type": "code",
   "execution_count": null,
   "metadata": {},
   "outputs": [],
   "source": [
    "plt.scatter(df['ER'],df['W'])\n",
    "plt.show()"
   ]
  },
  {
   "cell_type": "markdown",
   "metadata": {},
   "source": [
    "Observation: Below than 600 wining percentage increase and above from 650 W is less than 80."
   ]
  },
  {
   "cell_type": "code",
   "execution_count": null,
   "metadata": {},
   "outputs": [],
   "source": [
    "plt.scatter(df['ERA'],df['W'])\n",
    "plt.show()"
   ]
  },
  {
   "cell_type": "markdown",
   "metadata": {},
   "source": [
    "Observation:\n",
    "    1. When ERA value less than 3.5 than winning percentage is more than 90.\n",
    "    2. When ERA value is more than 4.25 than winning percentage 75."
   ]
  },
  {
   "cell_type": "markdown",
   "metadata": {},
   "source": [
    "## Check skewness distribution"
   ]
  },
  {
   "cell_type": "code",
   "execution_count": null,
   "metadata": {},
   "outputs": [],
   "source": [
    "df.skew()"
   ]
  },
  {
   "cell_type": "markdown",
   "metadata": {},
   "source": [
    "Finding: Skewness present in R,H,HR,CG,SHO,SV,E features"
   ]
  },
  {
   "cell_type": "code",
   "execution_count": null,
   "metadata": {},
   "outputs": [],
   "source": [
    "#Distribution plot for all numeric columns including target columns\n",
    "#In for loop we give describe() function to descriminate numeric columns from categorical columns.\n",
    "#Because describe() function give the summary of numeric columns\n",
    "for i in df.describe().columns:\n",
    "    sns.distplot(df[i])\n",
    "    plt.show()"
   ]
  },
  {
   "cell_type": "code",
   "execution_count": 32,
   "metadata": {},
   "outputs": [],
   "source": [
    "#Lets treat the skewness\n",
    "import numpy as np\n",
    "df.skew()\n",
    "for col in df.skew().index:\n",
    "    if col in df.describe().columns:\n",
    "        if df.skew().loc[col]>0.5:\n",
    "            df[col]=np.sqrt(df[col])\n",
    "        if df.skew().loc[col]<-0.5:\n",
    "            df[col]=np.cbrt(df[col])"
   ]
  },
  {
   "cell_type": "code",
   "execution_count": null,
   "metadata": {},
   "outputs": [],
   "source": [
    "#Again check skewness\n",
    "df.skew()"
   ]
  },
  {
   "cell_type": "markdown",
   "metadata": {},
   "source": [
    "Observation: After removing skewness in R,H,E features some skewness value present."
   ]
  },
  {
   "cell_type": "code",
   "execution_count": null,
   "metadata": {},
   "outputs": [],
   "source": [
    "\n",
    "print(df['E'].describe())\n",
    "sns.countplot(df['E'])"
   ]
  },
  {
   "cell_type": "code",
   "execution_count": null,
   "metadata": {},
   "outputs": [],
   "source": [
    "print(df['R'].describe())\n",
    "sns.countplot(df['R'])"
   ]
  },
  {
   "cell_type": "code",
   "execution_count": null,
   "metadata": {},
   "outputs": [],
   "source": [
    "print(df['H'].describe())\n",
    "sns.countplot(df['H'])"
   ]
  },
  {
   "cell_type": "markdown",
   "metadata": {},
   "source": [
    "## Plotting outliers"
   ]
  },
  {
   "cell_type": "code",
   "execution_count": null,
   "metadata": {},
   "outputs": [],
   "source": [
    "for i in df.describe().columns:\n",
    "    sns.boxplot(df[i])\n",
    "    plt.show()"
   ]
  },
  {
   "cell_type": "markdown",
   "metadata": {},
   "source": [
    "Observation: Outliers are present in some feature but in E more outliers."
   ]
  },
  {
   "cell_type": "markdown",
   "metadata": {},
   "source": [
    "### Removing Outliers"
   ]
  },
  {
   "cell_type": "code",
   "execution_count": null,
   "metadata": {},
   "outputs": [],
   "source": [
    "df1=df.copy()\n",
    "df1.head()"
   ]
  },
  {
   "cell_type": "code",
   "execution_count": 39,
   "metadata": {},
   "outputs": [
    {
     "data": {
      "text/plain": [
       "(30, 17)"
      ]
     },
     "execution_count": 39,
     "metadata": {},
     "output_type": "execute_result"
    }
   ],
   "source": [
    "df1.shape"
   ]
  },
  {
   "cell_type": "code",
   "execution_count": null,
   "metadata": {},
   "outputs": [],
   "source": [
    "from scipy.stats import zscore\n",
    "z=np.abs(zscore(df1))\n",
    "z"
   ]
  },
  {
   "cell_type": "code",
   "execution_count": 41,
   "metadata": {},
   "outputs": [
    {
     "data": {
      "text/plain": [
       "(array([5], dtype=int64), array([1], dtype=int64))"
      ]
     },
     "execution_count": 41,
     "metadata": {},
     "output_type": "execute_result"
    }
   ],
   "source": [
    "#Using threshold value as 3\n",
    "np.where(z>3)"
   ]
  },
  {
   "cell_type": "code",
   "execution_count": 42,
   "metadata": {},
   "outputs": [
    {
     "data": {
      "text/plain": [
       "3.365867919765219"
      ]
     },
     "execution_count": 42,
     "metadata": {},
     "output_type": "execute_result"
    }
   ],
   "source": [
    "z[5][1]"
   ]
  },
  {
   "cell_type": "code",
   "execution_count": 43,
   "metadata": {},
   "outputs": [],
   "source": [
    "df1_new=df1[(z<3).all(axis=1)]"
   ]
  },
  {
   "cell_type": "code",
   "execution_count": 44,
   "metadata": {},
   "outputs": [
    {
     "name": "stdout",
     "output_type": "stream",
     "text": [
      "(30, 17) \t (29, 17)\n"
     ]
    }
   ],
   "source": [
    "print(df1.shape,'\\t',df1_new.shape)"
   ]
  },
  {
   "cell_type": "markdown",
   "metadata": {},
   "source": [
    "Conclusion: 1 row detect as a Outliers."
   ]
  },
  {
   "cell_type": "code",
   "execution_count": 45,
   "metadata": {},
   "outputs": [
    {
     "data": {
      "text/plain": [
       "(29, 17)"
      ]
     },
     "execution_count": 45,
     "metadata": {},
     "output_type": "execute_result"
    }
   ],
   "source": [
    "df1=df1_new\n",
    "df1.shape"
   ]
  },
  {
   "cell_type": "code",
   "execution_count": 46,
   "metadata": {},
   "outputs": [
    {
     "data": {
      "text/plain": [
       "(29, 16)"
      ]
     },
     "execution_count": 46,
     "metadata": {},
     "output_type": "execute_result"
    }
   ],
   "source": [
    "# seprating into input and output variable\n",
    "x=df1.drop(['W'],axis=1)\n",
    "x.shape"
   ]
  },
  {
   "cell_type": "code",
   "execution_count": 47,
   "metadata": {},
   "outputs": [
    {
     "data": {
      "text/plain": [
       "(29,)"
      ]
     },
     "execution_count": 47,
     "metadata": {},
     "output_type": "execute_result"
    }
   ],
   "source": [
    "y=df1['W']\n",
    "y.shape"
   ]
  },
  {
   "cell_type": "code",
   "execution_count": null,
   "metadata": {},
   "outputs": [],
   "source": [
    "# Scaling the input variable\n",
    "from sklearn.preprocessing import StandardScaler\n",
    "sc=StandardScaler()\n",
    "x=sc.fit_transform(x)\n",
    "x"
   ]
  },
  {
   "cell_type": "markdown",
   "metadata": {},
   "source": [
    "### Machine Learning Algorithm"
   ]
  },
  {
   "cell_type": "code",
   "execution_count": 52,
   "metadata": {},
   "outputs": [],
   "source": [
    "# Model Training and Validation\n",
    "from sklearn.model_selection import train_test_split, GridSearchCV, cross_val_score\n",
    "from sklearn.metrics import mean_squared_error, r2_score\n",
    "\n",
    "# ML Algorithms\n",
    "from sklearn.linear_model import LinearRegression, Lasso, Ridge, ElasticNet\n",
    "from sklearn.svm import SVR\n",
    "from sklearn.neighbors import KNeighborsRegressor\n",
    "from sklearn.tree import DecisionTreeRegressor\n",
    "from sklearn.ensemble import RandomForestRegressor\n",
    "\n",
    "# Model Export\n",
    "import joblib\n",
    "from joblib import dump #from joblib import load > to load .pkl file"
   ]
  },
  {
   "cell_type": "code",
   "execution_count": 53,
   "metadata": {},
   "outputs": [
    {
     "name": "stdout",
     "output_type": "stream",
     "text": [
      "x_train.shape:  (23, 16) x_test.shape:  (6, 16) \n",
      "y_train.shape (23,) y_test.shape (6,)\n"
     ]
    }
   ],
   "source": [
    "from sklearn.model_selection import train_test_split\n",
    "x_train,x_test,y_train,y_test=train_test_split(x,y,test_size=0.2,random_state=42)\n",
    "print('x_train.shape: ',x_train.shape,'x_test.shape: ',x_test.shape,'\\ny_train.shape',y_train.shape,'y_test.shape',y_test.shape)"
   ]
  },
  {
   "cell_type": "code",
   "execution_count": 54,
   "metadata": {},
   "outputs": [],
   "source": [
    "#Creating function for Model Training\n",
    "from sklearn.metrics import mean_squared_error, r2_score\n",
    "def models(model, x_train, x_test, y_train, y_test,score,rmse):\n",
    "    #Fit the algorithm on the data\n",
    "    model.fit(x_train, y_train)\n",
    "    \n",
    "    #Predict training set:\n",
    "    y_pred = model.predict(x_test)\n",
    "    \n",
    "    score.append(model.score(x_train,y_train))\n",
    "    rmse.append(np.sqrt(mean_squared_error(y_test, y_pred)))\n",
    "    \n",
    "    print('\\nModel Report')\n",
    "    print('Score:',model.score(x_train,y_train))\n",
    "    print('RMSE:',np.sqrt(mean_squared_error(y_test, y_pred)))\n",
    "    print('R2 Score:',r2_score(y_test, y_pred))"
   ]
  },
  {
   "cell_type": "code",
   "execution_count": 55,
   "metadata": {},
   "outputs": [],
   "source": [
    "model_name,score,rmse=[],[],[]"
   ]
  },
  {
   "cell_type": "code",
   "execution_count": null,
   "metadata": {},
   "outputs": [],
   "source": [
    "#Linear Regression\n",
    "lreg=LinearRegression()\n",
    "models(lreg,x_train,x_test,y_train,y_test,score,rmse)\n",
    "model_name.append('Linear Regression')"
   ]
  },
  {
   "cell_type": "code",
   "execution_count": 57,
   "metadata": {},
   "outputs": [
    {
     "data": {
      "text/plain": [
       "{'alpha': 1}"
      ]
     },
     "execution_count": 57,
     "metadata": {},
     "output_type": "execute_result"
    }
   ],
   "source": [
    "#Ridge Regression\n",
    "parameters={'alpha':[0.001,0.01,1]}\n",
    "best=GridSearchCV(Ridge(),parameters)\n",
    "best.fit(x_train,y_train)\n",
    "best.best_params_"
   ]
  },
  {
   "cell_type": "code",
   "execution_count": 58,
   "metadata": {},
   "outputs": [
    {
     "name": "stdout",
     "output_type": "stream",
     "text": [
      "\n",
      "Model Report\n",
      "Score: 0.9367126383299618\n",
      "RMSE: 5.439549396541792\n",
      "R2 Score: 0.692850889576974\n"
     ]
    }
   ],
   "source": [
    "rr=Ridge(alpha=1)\n",
    "models(rr,x_train, x_test, y_train, y_test,score,rmse)\n",
    "model_name.append('Ridge Regression')"
   ]
  },
  {
   "cell_type": "code",
   "execution_count": 59,
   "metadata": {},
   "outputs": [
    {
     "data": {
      "text/plain": [
       "{'alpha': 1}"
      ]
     },
     "execution_count": 59,
     "metadata": {},
     "output_type": "execute_result"
    }
   ],
   "source": [
    "#Lasso Regression\n",
    "parameters={'alpha':[0.001,0.01,1]}\n",
    "best=GridSearchCV(Lasso(),parameters)\n",
    "best.fit(x_train,y_train)\n",
    "best.best_params_"
   ]
  },
  {
   "cell_type": "code",
   "execution_count": null,
   "metadata": {},
   "outputs": [],
   "source": [
    "lr=Lasso(alpha=1)\n",
    "models(lr,x_train, x_test, y_train, y_test,score,rmse)\n",
    "model_name.append('Lasso Regression')"
   ]
  },
  {
   "cell_type": "code",
   "execution_count": null,
   "metadata": {},
   "outputs": [],
   "source": [
    "#ElasticNet\n",
    "enr=ElasticNet(alpha=0.01)\n",
    "models(enr,x_train, x_test, y_train, y_test,score,rmse)\n",
    "model_name.append('Elastic Net')"
   ]
  },
  {
   "cell_type": "code",
   "execution_count": 62,
   "metadata": {},
   "outputs": [
    {
     "data": {
      "text/plain": [
       "{'kernel': 'linear'}"
      ]
     },
     "execution_count": 62,
     "metadata": {},
     "output_type": "execute_result"
    }
   ],
   "source": [
    "#Support Vector Regression\n",
    "parameters={'kernel':['linear','poly','rbf']}\n",
    "best=GridSearchCV(SVR(),parameters)\n",
    "best.fit(x_train,y_train)\n",
    "best.best_params_"
   ]
  },
  {
   "cell_type": "code",
   "execution_count": 63,
   "metadata": {},
   "outputs": [
    {
     "name": "stdout",
     "output_type": "stream",
     "text": [
      "\n",
      "Model Report\n",
      "Score: 0.9154844011875746\n",
      "RMSE: 5.307869322974945\n",
      "R2 Score: 0.7075417638431297\n"
     ]
    }
   ],
   "source": [
    "svr=SVR(kernel='linear')\n",
    "models(svr,x_train, x_test, y_train, y_test,score,rmse)\n",
    "model_name.append('Support Vector Regression')"
   ]
  },
  {
   "cell_type": "code",
   "execution_count": 64,
   "metadata": {},
   "outputs": [
    {
     "data": {
      "text/plain": [
       "{'max_depth': 8, 'min_samples_leaf': 100}"
      ]
     },
     "execution_count": 64,
     "metadata": {},
     "output_type": "execute_result"
    }
   ],
   "source": [
    "#Decision Tree Regressor Model\n",
    "parameters={'max_depth':[8,10,12,15],'min_samples_leaf':[100,150]}\n",
    "best=GridSearchCV(DecisionTreeRegressor(),parameters)\n",
    "best.fit(x_train,y_train)\n",
    "best.best_params_"
   ]
  },
  {
   "cell_type": "code",
   "execution_count": 65,
   "metadata": {},
   "outputs": [
    {
     "name": "stdout",
     "output_type": "stream",
     "text": [
      "\n",
      "Model Report\n",
      "Score: 0.0\n",
      "RMSE: 9.839576478711026\n",
      "R2 Score: -0.005023515021487235\n"
     ]
    }
   ],
   "source": [
    "dct=DecisionTreeRegressor(max_depth=8,min_samples_leaf=100)\n",
    "models(dct,x_train, x_test, y_train, y_test,score,rmse)\n",
    "model_name.append('Decision Tree Regression')"
   ]
  },
  {
   "cell_type": "code",
   "execution_count": 66,
   "metadata": {},
   "outputs": [
    {
     "data": {
      "text/plain": [
       "{'max_depth': 5, 'n_estimators': 200}"
      ]
     },
     "execution_count": 66,
     "metadata": {},
     "output_type": "execute_result"
    }
   ],
   "source": [
    "#Random Forest Regressor\n",
    "parameters={'n_estimators':[200,300,400],'max_depth':[5,6]}\n",
    "best=GridSearchCV(RandomForestRegressor(),parameters)\n",
    "best.fit(x_train,y_train)\n",
    "best.best_params_"
   ]
  },
  {
   "cell_type": "code",
   "execution_count": null,
   "metadata": {},
   "outputs": [],
   "source": [
    "rf=RandomForestRegressor(n_estimators=300,max_depth=5)\n",
    "models(rf,x_train, x_test, y_train, y_test,score,rmse)\n",
    "model_name.append('Random Forest Regression')"
   ]
  },
  {
   "cell_type": "code",
   "execution_count": null,
   "metadata": {},
   "outputs": [],
   "source": [
    "final=pd.DataFrame({'Model Name':model_name,'Score':score,'RMSE':rmse})\n",
    "final"
   ]
  },
  {
   "cell_type": "markdown",
   "metadata": {},
   "source": [
    "Observation: Here according to score Linear Regression Model performance is good.\n",
    "    "
   ]
  },
  {
   "cell_type": "code",
   "execution_count": 70,
   "metadata": {},
   "outputs": [
    {
     "data": {
      "text/plain": [
       "['Linear_Baseball_Dataset.pkl']"
      ]
     },
     "execution_count": 70,
     "metadata": {},
     "output_type": "execute_result"
    }
   ],
   "source": [
    "#save the best model\n",
    "import joblib\n",
    "from joblib import dump\n",
    "joblib.dump(lreg,'Linear_Baseball_Dataset.pkl')"
   ]
  },
  {
   "cell_type": "code",
   "execution_count": null,
   "metadata": {},
   "outputs": [],
   "source": []
  }
 ],
 "metadata": {
  "kernelspec": {
   "display_name": "Python 3",
   "language": "python",
   "name": "python3"
  },
  "language_info": {
   "codemirror_mode": {
    "name": "ipython",
    "version": 3
   },
   "file_extension": ".py",
   "mimetype": "text/x-python",
   "name": "python",
   "nbconvert_exporter": "python",
   "pygments_lexer": "ipython3",
   "version": "3.7.6"
  }
 },
 "nbformat": 4,
 "nbformat_minor": 4
}
