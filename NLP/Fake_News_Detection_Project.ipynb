{
 "cells": [
  {
   "cell_type": "code",
   "execution_count": 1,
   "metadata": {},
   "outputs": [],
   "source": [
    "import numpy as np # linear algebra\n",
    "import pandas as pd # data processing, CSV file I/O (e.g. pd.read_csv)\n",
    "import matplotlib.pyplot as plt\n",
    "import seaborn as sns\n",
    "import matplotlib\n",
    "import re # for regex\n",
    "from nltk.corpus import stopwords\n",
    "from nltk.tokenize import word_tokenize\n",
    "from nltk.stem import SnowballStemmer\n",
    "from sklearn.feature_extraction.text import CountVectorizer\n",
    "from sklearn.model_selection import train_test_split\n",
    "from sklearn.naive_bayes import GaussianNB,MultinomialNB,BernoulliNB\n",
    "from sklearn.metrics import accuracy_score\n",
    "import pickle\n",
    "\n",
    "#Importing the warnings\n",
    "import warnings\n",
    "warnings.filterwarnings('ignore')"
   ]
  },
  {
   "cell_type": "code",
   "execution_count": 2,
   "metadata": {},
   "outputs": [
    {
     "name": "stdout",
     "output_type": "stream",
     "text": [
      "(20800, 6)\n"
     ]
    },
    {
     "data": {
      "text/html": [
       "<div>\n",
       "<style scoped>\n",
       "    .dataframe tbody tr th:only-of-type {\n",
       "        vertical-align: middle;\n",
       "    }\n",
       "\n",
       "    .dataframe tbody tr th {\n",
       "        vertical-align: top;\n",
       "    }\n",
       "\n",
       "    .dataframe thead th {\n",
       "        text-align: right;\n",
       "    }\n",
       "</style>\n",
       "<table border=\"1\" class=\"dataframe\">\n",
       "  <thead>\n",
       "    <tr style=\"text-align: right;\">\n",
       "      <th></th>\n",
       "      <th>Unnamed: 0</th>\n",
       "      <th>id</th>\n",
       "      <th>headline</th>\n",
       "      <th>written_by</th>\n",
       "      <th>news</th>\n",
       "      <th>label</th>\n",
       "    </tr>\n",
       "  </thead>\n",
       "  <tbody>\n",
       "    <tr>\n",
       "      <th>0</th>\n",
       "      <td>0</td>\n",
       "      <td>9653</td>\n",
       "      <td>Ethics Questions Dogged Agriculture Nominee as...</td>\n",
       "      <td>Eric Lipton and Steve Eder</td>\n",
       "      <td>WASHINGTON  —   In Sonny Perdue’s telling, Geo...</td>\n",
       "      <td>0</td>\n",
       "    </tr>\n",
       "    <tr>\n",
       "      <th>1</th>\n",
       "      <td>1</td>\n",
       "      <td>10041</td>\n",
       "      <td>U.S. Must Dig Deep to Stop Argentina’s Lionel ...</td>\n",
       "      <td>David Waldstein</td>\n",
       "      <td>HOUSTON  —   Venezuela had a plan. It was a ta...</td>\n",
       "      <td>0</td>\n",
       "    </tr>\n",
       "    <tr>\n",
       "      <th>2</th>\n",
       "      <td>2</td>\n",
       "      <td>19113</td>\n",
       "      <td>Cotton to House: ’Do Not Walk the Plank and Vo...</td>\n",
       "      <td>Pam Key</td>\n",
       "      <td>Sunday on ABC’s “This Week,” while discussing ...</td>\n",
       "      <td>0</td>\n",
       "    </tr>\n",
       "    <tr>\n",
       "      <th>3</th>\n",
       "      <td>3</td>\n",
       "      <td>6868</td>\n",
       "      <td>Paul LePage, Besieged Maine Governor, Sends Co...</td>\n",
       "      <td>Jess Bidgood</td>\n",
       "      <td>AUGUSTA, Me.  —   The beleaguered Republican g...</td>\n",
       "      <td>0</td>\n",
       "    </tr>\n",
       "    <tr>\n",
       "      <th>4</th>\n",
       "      <td>4</td>\n",
       "      <td>7596</td>\n",
       "      <td>A Digital 9/11 If Trump Wins</td>\n",
       "      <td>Finian Cunningham</td>\n",
       "      <td>Finian Cunningham has written extensively on...</td>\n",
       "      <td>1</td>\n",
       "    </tr>\n",
       "  </tbody>\n",
       "</table>\n",
       "</div>"
      ],
      "text/plain": [
       "   Unnamed: 0     id                                           headline  \\\n",
       "0           0   9653  Ethics Questions Dogged Agriculture Nominee as...   \n",
       "1           1  10041  U.S. Must Dig Deep to Stop Argentina’s Lionel ...   \n",
       "2           2  19113  Cotton to House: ’Do Not Walk the Plank and Vo...   \n",
       "3           3   6868  Paul LePage, Besieged Maine Governor, Sends Co...   \n",
       "4           4   7596                       A Digital 9/11 If Trump Wins   \n",
       "\n",
       "                   written_by  \\\n",
       "0  Eric Lipton and Steve Eder   \n",
       "1             David Waldstein   \n",
       "2                     Pam Key   \n",
       "3                Jess Bidgood   \n",
       "4           Finian Cunningham   \n",
       "\n",
       "                                                news  label  \n",
       "0  WASHINGTON  —   In Sonny Perdue’s telling, Geo...      0  \n",
       "1  HOUSTON  —   Venezuela had a plan. It was a ta...      0  \n",
       "2  Sunday on ABC’s “This Week,” while discussing ...      0  \n",
       "3  AUGUSTA, Me.  —   The beleaguered Republican g...      0  \n",
       "4    Finian Cunningham has written extensively on...      1  "
      ]
     },
     "execution_count": 2,
     "metadata": {},
     "output_type": "execute_result"
    }
   ],
   "source": [
    "#Loading the dataset\n",
    "data = pd.read_csv('train_news.csv')\n",
    "print(data.shape)\n",
    "data.head()"
   ]
  },
  {
   "cell_type": "code",
   "execution_count": 3,
   "metadata": {},
   "outputs": [],
   "source": [
    "# Dataset has extra columns- Remove \n",
    "data.drop(columns=['Unnamed: 0'],axis=1,inplace=True)"
   ]
  },
  {
   "cell_type": "code",
   "execution_count": 4,
   "metadata": {},
   "outputs": [
    {
     "name": "stdout",
     "output_type": "stream",
     "text": [
      "<class 'pandas.core.frame.DataFrame'>\n",
      "RangeIndex: 20800 entries, 0 to 20799\n",
      "Data columns (total 5 columns):\n",
      " #   Column      Non-Null Count  Dtype \n",
      "---  ------      --------------  ----- \n",
      " 0   id          20800 non-null  int64 \n",
      " 1   headline    20242 non-null  object\n",
      " 2   written_by  18843 non-null  object\n",
      " 3   news        20761 non-null  object\n",
      " 4   label       20800 non-null  int64 \n",
      "dtypes: int64(2), object(3)\n",
      "memory usage: 812.6+ KB\n"
     ]
    }
   ],
   "source": [
    "#Checking the information of the datset\n",
    "data.info()"
   ]
  },
  {
   "cell_type": "code",
   "execution_count": 5,
   "metadata": {},
   "outputs": [
    {
     "data": {
      "text/plain": [
       "True"
      ]
     },
     "execution_count": 5,
     "metadata": {},
     "output_type": "execute_result"
    }
   ],
   "source": [
    "#Checking the missing values in the dataset\n",
    "data.isnull().values.any()"
   ]
  },
  {
   "cell_type": "code",
   "execution_count": 6,
   "metadata": {},
   "outputs": [
    {
     "data": {
      "text/plain": [
       "id               0\n",
       "headline       558\n",
       "written_by    1957\n",
       "news            39\n",
       "label            0\n",
       "dtype: int64"
      ]
     },
     "execution_count": 6,
     "metadata": {},
     "output_type": "execute_result"
    }
   ],
   "source": [
    "#Checking the number of missing values according to column wise\n",
    "data.isnull().sum()"
   ]
  },
  {
   "cell_type": "code",
   "execution_count": 7,
   "metadata": {},
   "outputs": [],
   "source": [
    "# Dataset has extra columns- Remove \n",
    "data.drop(columns=['id','headline','written_by'],axis=1,inplace=True)"
   ]
  },
  {
   "cell_type": "code",
   "execution_count": 8,
   "metadata": {},
   "outputs": [
    {
     "data": {
      "text/html": [
       "<div>\n",
       "<style scoped>\n",
       "    .dataframe tbody tr th:only-of-type {\n",
       "        vertical-align: middle;\n",
       "    }\n",
       "\n",
       "    .dataframe tbody tr th {\n",
       "        vertical-align: top;\n",
       "    }\n",
       "\n",
       "    .dataframe thead th {\n",
       "        text-align: right;\n",
       "    }\n",
       "</style>\n",
       "<table border=\"1\" class=\"dataframe\">\n",
       "  <thead>\n",
       "    <tr style=\"text-align: right;\">\n",
       "      <th></th>\n",
       "      <th>news</th>\n",
       "      <th>label</th>\n",
       "    </tr>\n",
       "  </thead>\n",
       "  <tbody>\n",
       "    <tr>\n",
       "      <th>0</th>\n",
       "      <td>WASHINGTON  —   In Sonny Perdue’s telling, Geo...</td>\n",
       "      <td>0</td>\n",
       "    </tr>\n",
       "    <tr>\n",
       "      <th>1</th>\n",
       "      <td>HOUSTON  —   Venezuela had a plan. It was a ta...</td>\n",
       "      <td>0</td>\n",
       "    </tr>\n",
       "    <tr>\n",
       "      <th>2</th>\n",
       "      <td>Sunday on ABC’s “This Week,” while discussing ...</td>\n",
       "      <td>0</td>\n",
       "    </tr>\n",
       "    <tr>\n",
       "      <th>3</th>\n",
       "      <td>AUGUSTA, Me.  —   The beleaguered Republican g...</td>\n",
       "      <td>0</td>\n",
       "    </tr>\n",
       "    <tr>\n",
       "      <th>4</th>\n",
       "      <td>Finian Cunningham has written extensively on...</td>\n",
       "      <td>1</td>\n",
       "    </tr>\n",
       "  </tbody>\n",
       "</table>\n",
       "</div>"
      ],
      "text/plain": [
       "                                                news  label\n",
       "0  WASHINGTON  —   In Sonny Perdue’s telling, Geo...      0\n",
       "1  HOUSTON  —   Venezuela had a plan. It was a ta...      0\n",
       "2  Sunday on ABC’s “This Week,” while discussing ...      0\n",
       "3  AUGUSTA, Me.  —   The beleaguered Republican g...      0\n",
       "4    Finian Cunningham has written extensively on...      1"
      ]
     },
     "execution_count": 8,
     "metadata": {},
     "output_type": "execute_result"
    }
   ],
   "source": [
    "data.head()"
   ]
  },
  {
   "cell_type": "code",
   "execution_count": 9,
   "metadata": {},
   "outputs": [
    {
     "name": "stdout",
     "output_type": "stream",
     "text": [
      "<class 'pandas.core.frame.DataFrame'>\n",
      "RangeIndex: 20800 entries, 0 to 20799\n",
      "Data columns (total 2 columns):\n",
      " #   Column  Non-Null Count  Dtype \n",
      "---  ------  --------------  ----- \n",
      " 0   news    20761 non-null  object\n",
      " 1   label   20800 non-null  int64 \n",
      "dtypes: int64(1), object(1)\n",
      "memory usage: 325.1+ KB\n"
     ]
    }
   ],
   "source": [
    "data.info()"
   ]
  },
  {
   "cell_type": "code",
   "execution_count": 10,
   "metadata": {},
   "outputs": [
    {
     "name": "stdout",
     "output_type": "stream",
     "text": [
      "Columns having missing values are as follows:\n",
      "news\n"
     ]
    }
   ],
   "source": [
    "print('Columns having missing values are as follows:')\n",
    "for i in data.isnull().any().index:\n",
    "    if (data.isnull().any()[i]):\n",
    "        print(i)"
   ]
  },
  {
   "cell_type": "code",
   "execution_count": 11,
   "metadata": {},
   "outputs": [
    {
     "name": "stdout",
     "output_type": "stream",
     "text": [
      "Number of missing values in each column:\n",
      "news     39\n",
      "label     0\n",
      "dtype: int64\n",
      "\n",
      "Percentage of missing values in each column:\n",
      "news     0.0\n",
      "label    0.0\n",
      "dtype: float64 2\n"
     ]
    }
   ],
   "source": [
    "print(\"Number of missing values in each column:\")\n",
    "print(data.isnull().sum())\n",
    "print('\\nPercentage of missing values in each column:')\n",
    "print(round(100*data.isnull().sum()/len(data.index)),2)"
   ]
  },
  {
   "cell_type": "code",
   "execution_count": 12,
   "metadata": {},
   "outputs": [
    {
     "data": {
      "text/plain": [
       "news     39\n",
       "label     0\n",
       "dtype: int64"
      ]
     },
     "execution_count": 12,
     "metadata": {},
     "output_type": "execute_result"
    }
   ],
   "source": [
    "data.isnull().sum()"
   ]
  },
  {
   "cell_type": "code",
   "execution_count": 13,
   "metadata": {},
   "outputs": [
    {
     "name": "stdout",
     "output_type": "stream",
     "text": [
      "Initial Shape :: (20800, 2)\n",
      "Final Shape :: (20761, 2)\n"
     ]
    }
   ],
   "source": [
    "# Let's drop null values\n",
    "print('Initial Shape ::', data.shape)\n",
    "data.dropna(axis=0, how='any', inplace=True)\n",
    "print('Final Shape ::', data.shape)"
   ]
  },
  {
   "cell_type": "code",
   "execution_count": 14,
   "metadata": {},
   "outputs": [
    {
     "name": "stdout",
     "output_type": "stream",
     "text": [
      "<class 'pandas.core.frame.DataFrame'>\n",
      "Int64Index: 20761 entries, 0 to 20799\n",
      "Data columns (total 2 columns):\n",
      " #   Column  Non-Null Count  Dtype \n",
      "---  ------  --------------  ----- \n",
      " 0   news    20761 non-null  object\n",
      " 1   label   20761 non-null  int64 \n",
      "dtypes: int64(1), object(1)\n",
      "memory usage: 486.6+ KB\n"
     ]
    }
   ],
   "source": [
    "data.info()"
   ]
  },
  {
   "cell_type": "code",
   "execution_count": 15,
   "metadata": {},
   "outputs": [
    {
     "data": {
      "text/plain": [
       "0    10387\n",
       "1    10374\n",
       "Name: label, dtype: int64"
      ]
     },
     "execution_count": 15,
     "metadata": {},
     "output_type": "execute_result"
    }
   ],
   "source": [
    "#No null values, Label encode sentiment to 1(positive) and 0(negative)\n",
    "data.label.value_counts()"
   ]
  },
  {
   "cell_type": "markdown",
   "metadata": {},
   "source": [
    "Remark:- Here 1 stands for Fake News and 0 stands for real news\n"
   ]
  },
  {
   "cell_type": "code",
   "execution_count": 16,
   "metadata": {},
   "outputs": [
    {
     "name": "stdout",
     "output_type": "stream",
     "text": [
      "Real News Ratio: 50.0 %\n",
      "Fake News Ratio: 50.0 %\n"
     ]
    }
   ],
   "source": [
    "#Checking the Ratio of the Labels\n",
    "print(\"Real News Ratio:\",round(len(data[data['label']==0])/len(data['label']),2)*100,'%')\n",
    "print(\"Fake News Ratio:\",round(len(data[data['label']==1])/len(data['label']),2)*100,'%')"
   ]
  },
  {
   "cell_type": "markdown",
   "metadata": {},
   "source": [
    "Finding:- Dataset is balanced so not need to balance for Model Building.\n",
    "    "
   ]
  },
  {
   "cell_type": "code",
   "execution_count": 17,
   "metadata": {},
   "outputs": [
    {
     "data": {
      "text/plain": [
       "'WASHINGTON  —   In Sonny Perdue’s telling, Georgians were growing weary of the corruption and scandals in their state when he took over as governor in 2003  —   a time when he gave his own version of a “drain the swamp” pledge. “My first goal as governor is to restore public trust in state government by changing the culture of state government,” Mr. Perdue told a leadership conference at Kennesaw State University in April 2003. “Our form of government depends on a mutual bond of trust between the people and their government. But people have become cynical about their government. ” But Mr. Perdue, a Republican who is awaiting confirmation to serve as President Trump’s agriculture secretary, became a target of frequent criticism that he was failing to honor his own ethics pledge during his eight years as governor. The criticism centers on the fact that, as Mr. Trump has, he continued to own or help run his family business ventures  —   four   companies  —   while serving as governor. Mr. Perdue is one of the last cabinet members awaiting Senate confirmation. No date has been set for his confirmation hearing a holdup in the release of paperwork accompanying his nomination by the federal Office of Government Ethics has been blamed for the delay. The office must examine Mr. Perdue’s proposal to avoid conflicts of interest while running the U. S. D. A. as the department is known, which may include selling off some of his farming assets. Before his tenure as governor ended in 2011, 13 complaints had been filed against Mr. Perdue with the State Ethics Commission, which on two occasions ruled that the governor had violated state ethics laws. The commission took the unusual step of fining Mr. Perdue while he was governor. There were numerous other questions, including some about the role of Mr. Perdue’s personal lawyer  —   also a state legislator  —   in pushing a bill through the legislature that included a special provision that gave Mr. Perdue $100, 000 in state tax relief. And, when his tenure as governor was coming to a close, Mr. Perdue met with Georgia officials who oversee the state’s ports to discuss use of a terminal for a family business, according to documents obtained by The Atlanta  . Soon after he left office, in fact, he opened a new company that specialized in exporting products through Savannah. “When you are a public official you are supposed to be acting entirely on behalf of the public and not for ” said Yasha Heidari, former senior legal counsel to the State Ethics Commission. “Looking at his record, as both an attorney and a citizen of the state, I had serious concerns. ” In a written statement, a spokeswoman for Mr. Perdue rejected that assessment, saying that the frequent criticism he faced while governor was largely politically motivated. “There hadn’t been a Republican governor in Georgia for 135 years,” the statement said. “Governor Perdue was the David who slew the Democrats’ Goliath. ” During the wait for Mr. Perdue’s confirmation hearing, some in the farming industry have come to his defense. “I don’t think you are going to find a man any more honorable than Sonny Perdue,” said Zippy Duvall, a Georgia cattle and poultry farmer who is the president of the American Farm Bureau Federation, adding that he had known Mr. Perdue for about a decade. “He is as ethical as they come. ” Born into a family of farmers, Mr. Perdue played college football as a   at the University of Georgia, and later worked briefly as a practicing veterinarian. He rose through the ranks of the state legislature and, in the late 1990s, switched his party affiliation from Democrat to Republican because, he said, the state party had lost its focus on family values. One of Mr. Perdue’s first acts after he was sworn in as governor in January 2003 was to sign an executive order establishing a new code of ethics for executive branch employees. The order, which applied to the governor himself, prohibited state employees from using their powers for “any financial or other personal benefit” and barred them from taking any gifts worth more than $25. “In carrying out their official duties and obligations, all officers and employees of state government must work solely for the public good, striving vigilantly to avoid even the appearance that their actions are motivated by private or personal interest,” the 2003 executive order said. But Mr. Perdue ended up collecting at least $25, 000 worth of benefits or gifts during his years as governor, state records show. The gifts ranged from tickets to a Nascar race and football games to flights paid for by Altria, the tobacco company, and by CSX, the railroad giant, according to a 2010 report by Citizens for Responsibility and Ethics in Washington, a liberal nonprofit group. Mr. Perdue’s spokeswoman, in the written statement, said that none of these gifts violated the ban because the “trips were for official state business and were perfectly acceptable as saving taxpayer funds. ” “The gifts were to the state,” the statement read, “not to the governor. ” The fine by the State Ethics Commission in 2005 came after the commission concluded that Mr. Perdue had failed to properly report the use of an airplane owned by one of his family’s businesses for a   trip. The commission also found that he had taken campaign contributions in amounts that exceeded state limits from several donors  —   including a political action committee run by SunTrust, the   bank. Mr. Perdue called the violations technical, and the investigation politically motivated. Teddy Lee, the executive secretary of the State Ethics Commission, was fired from his job in January 2006, and in an interview he blamed Mr. Perdue for his firing. Mr. Lee had served in the job under four governors. “This looked like a political hit to me,” Mr. Lee said. Mr. Lee’s dismissal came as Mr. Perdue was seeking   and just months before his largest scandal emerged, over a $100, 000 state tax break he received thanks to a legislative maneuver engineered by a lawmaker who was also his personal lawyer. The focus of the controversy was a piece of property in Florida that Mr. Perdue purchased in 2004. The purchase allowed him to defer paying federal capital gains taxes on a separate piece of Georgia land  —   which he had previously sold at a profit. When that transaction was completed, Mr. Perdue still owed Georgia about $100, 000 in state taxes. Then, Mr. Perdue signed a bill the following year eliminating that state tax obligation  —   as state law was changed to allow   rollover relief on capital gains, even if the new property being purchased was out of state. During deliberations on the legislation, Larry O’Neal, a member of the Georgia House of Representatives who also worked part time as a personal lawyer for Mr. Perdue, intervened to make the change in that provision retroactive. That meant it would cover Mr. Perdue’s 2004 land deal, saving the governor $100, 000, The   reported at the time. Mr. Perdue’s spokeswoman said the change in state law was not intended to benefit Mr. Perdue. “It benefited all Georgians,” the statement said. Scott Faber of the Environmental Working Group, a nonprofit organization that keeps a close watch on policies at the Agriculture Department, said he had questions about Mr. Perdue’s fitness to take over the department. “Given his record of   and conflicts of interest as governor of Georgia, it is fair to ask if he is fit to run a $    federal agency,” Mr. Faber said. But Mr. Duvall, of the American Farm Bureau Federation, believes the opposite. Mr. Duvall said that as a former farmer, Mr. Perdue is just what the nation needs to run the department. “He has worked on a farm and owned businesses that buy and sell grain domestically and internationally,” Mr. Duvall said. “It ought to be a requirement that someone who runs the U. S. D. A. knows something about farming. And Sonny certainly does. ”'"
      ]
     },
     "execution_count": 17,
     "metadata": {},
     "output_type": "execute_result"
    }
   ],
   "source": [
    "data.news[0]"
   ]
  },
  {
   "cell_type": "code",
   "execution_count": 19,
   "metadata": {},
   "outputs": [
    {
     "data": {
      "text/html": [
       "<div>\n",
       "<style scoped>\n",
       "    .dataframe tbody tr th:only-of-type {\n",
       "        vertical-align: middle;\n",
       "    }\n",
       "\n",
       "    .dataframe tbody tr th {\n",
       "        vertical-align: top;\n",
       "    }\n",
       "\n",
       "    .dataframe thead th {\n",
       "        text-align: right;\n",
       "    }\n",
       "</style>\n",
       "<table border=\"1\" class=\"dataframe\">\n",
       "  <thead>\n",
       "    <tr style=\"text-align: right;\">\n",
       "      <th></th>\n",
       "      <th>news</th>\n",
       "      <th>label</th>\n",
       "      <th>news_length</th>\n",
       "    </tr>\n",
       "  </thead>\n",
       "  <tbody>\n",
       "    <tr>\n",
       "      <th>0</th>\n",
       "      <td>WASHINGTON  —   In Sonny Perdue’s telling, Geo...</td>\n",
       "      <td>0</td>\n",
       "      <td>7936</td>\n",
       "    </tr>\n",
       "    <tr>\n",
       "      <th>1</th>\n",
       "      <td>HOUSTON  —   Venezuela had a plan. It was a ta...</td>\n",
       "      <td>0</td>\n",
       "      <td>6112</td>\n",
       "    </tr>\n",
       "    <tr>\n",
       "      <th>2</th>\n",
       "      <td>Sunday on ABC’s “This Week,” while discussing ...</td>\n",
       "      <td>0</td>\n",
       "      <td>425</td>\n",
       "    </tr>\n",
       "    <tr>\n",
       "      <th>3</th>\n",
       "      <td>AUGUSTA, Me.  —   The beleaguered Republican g...</td>\n",
       "      <td>0</td>\n",
       "      <td>6516</td>\n",
       "    </tr>\n",
       "    <tr>\n",
       "      <th>4</th>\n",
       "      <td>Finian Cunningham has written extensively on...</td>\n",
       "      <td>1</td>\n",
       "      <td>9164</td>\n",
       "    </tr>\n",
       "  </tbody>\n",
       "</table>\n",
       "</div>"
      ],
      "text/plain": [
       "                                                news  label  news_length\n",
       "0  WASHINGTON  —   In Sonny Perdue’s telling, Geo...      0         7936\n",
       "1  HOUSTON  —   Venezuela had a plan. It was a ta...      0         6112\n",
       "2  Sunday on ABC’s “This Week,” while discussing ...      0          425\n",
       "3  AUGUSTA, Me.  —   The beleaguered Republican g...      0         6516\n",
       "4    Finian Cunningham has written extensively on...      1         9164"
      ]
     },
     "execution_count": 19,
     "metadata": {},
     "output_type": "execute_result"
    }
   ],
   "source": [
    "#Creating the new column which is news_length before cleaning the news\n",
    "\n",
    "data['news_length'] = data['news'].str.len()\n",
    "data.head()"
   ]
  },
  {
   "cell_type": "markdown",
   "metadata": {},
   "source": [
    "## Data Cleaning Steps for news column\n",
    "Remove HTML tags\n",
    "\n",
    "Remove special characters\n",
    "\n",
    "Convert everything to lowercase\n",
    "\n",
    "Remove stopwords\n",
    "\n",
    "Stemming"
   ]
  },
  {
   "cell_type": "code",
   "execution_count": 20,
   "metadata": {},
   "outputs": [
    {
     "data": {
      "text/plain": [
       "'WASHINGTON  —   In Sonny Perdue’s telling, Georgians were growing weary of the corruption and scandals in their state when he took over as governor in 2003  —   a time when he gave his own version of a “drain the swamp” pledge. “My first goal as governor is to restore public trust in state government by changing the culture of state government,” Mr. Perdue told a leadership conference at Kennesaw State University in April 2003. “Our form of government depends on a mutual bond of trust between the people and their government. But people have become cynical about their government. ” But Mr. Perdue, a Republican who is awaiting confirmation to serve as President Trump’s agriculture secretary, became a target of frequent criticism that he was failing to honor his own ethics pledge during his eight years as governor. The criticism centers on the fact that, as Mr. Trump has, he continued to own or help run his family business ventures  —   four   companies  —   while serving as governor. Mr. Perdue is one of the last cabinet members awaiting Senate confirmation. No date has been set for his confirmation hearing a holdup in the release of paperwork accompanying his nomination by the federal Office of Government Ethics has been blamed for the delay. The office must examine Mr. Perdue’s proposal to avoid conflicts of interest while running the U. S. D. A. as the department is known, which may include selling off some of his farming assets. Before his tenure as governor ended in 2011, 13 complaints had been filed against Mr. Perdue with the State Ethics Commission, which on two occasions ruled that the governor had violated state ethics laws. The commission took the unusual step of fining Mr. Perdue while he was governor. There were numerous other questions, including some about the role of Mr. Perdue’s personal lawyer  —   also a state legislator  —   in pushing a bill through the legislature that included a special provision that gave Mr. Perdue $100, 000 in state tax relief. And, when his tenure as governor was coming to a close, Mr. Perdue met with Georgia officials who oversee the state’s ports to discuss use of a terminal for a family business, according to documents obtained by The Atlanta  . Soon after he left office, in fact, he opened a new company that specialized in exporting products through Savannah. “When you are a public official you are supposed to be acting entirely on behalf of the public and not for ” said Yasha Heidari, former senior legal counsel to the State Ethics Commission. “Looking at his record, as both an attorney and a citizen of the state, I had serious concerns. ” In a written statement, a spokeswoman for Mr. Perdue rejected that assessment, saying that the frequent criticism he faced while governor was largely politically motivated. “There hadn’t been a Republican governor in Georgia for 135 years,” the statement said. “Governor Perdue was the David who slew the Democrats’ Goliath. ” During the wait for Mr. Perdue’s confirmation hearing, some in the farming industry have come to his defense. “I don’t think you are going to find a man any more honorable than Sonny Perdue,” said Zippy Duvall, a Georgia cattle and poultry farmer who is the president of the American Farm Bureau Federation, adding that he had known Mr. Perdue for about a decade. “He is as ethical as they come. ” Born into a family of farmers, Mr. Perdue played college football as a   at the University of Georgia, and later worked briefly as a practicing veterinarian. He rose through the ranks of the state legislature and, in the late 1990s, switched his party affiliation from Democrat to Republican because, he said, the state party had lost its focus on family values. One of Mr. Perdue’s first acts after he was sworn in as governor in January 2003 was to sign an executive order establishing a new code of ethics for executive branch employees. The order, which applied to the governor himself, prohibited state employees from using their powers for “any financial or other personal benefit” and barred them from taking any gifts worth more than $25. “In carrying out their official duties and obligations, all officers and employees of state government must work solely for the public good, striving vigilantly to avoid even the appearance that their actions are motivated by private or personal interest,” the 2003 executive order said. But Mr. Perdue ended up collecting at least $25, 000 worth of benefits or gifts during his years as governor, state records show. The gifts ranged from tickets to a Nascar race and football games to flights paid for by Altria, the tobacco company, and by CSX, the railroad giant, according to a 2010 report by Citizens for Responsibility and Ethics in Washington, a liberal nonprofit group. Mr. Perdue’s spokeswoman, in the written statement, said that none of these gifts violated the ban because the “trips were for official state business and were perfectly acceptable as saving taxpayer funds. ” “The gifts were to the state,” the statement read, “not to the governor. ” The fine by the State Ethics Commission in 2005 came after the commission concluded that Mr. Perdue had failed to properly report the use of an airplane owned by one of his family’s businesses for a   trip. The commission also found that he had taken campaign contributions in amounts that exceeded state limits from several donors  —   including a political action committee run by SunTrust, the   bank. Mr. Perdue called the violations technical, and the investigation politically motivated. Teddy Lee, the executive secretary of the State Ethics Commission, was fired from his job in January 2006, and in an interview he blamed Mr. Perdue for his firing. Mr. Lee had served in the job under four governors. “This looked like a political hit to me,” Mr. Lee said. Mr. Lee’s dismissal came as Mr. Perdue was seeking   and just months before his largest scandal emerged, over a $100, 000 state tax break he received thanks to a legislative maneuver engineered by a lawmaker who was also his personal lawyer. The focus of the controversy was a piece of property in Florida that Mr. Perdue purchased in 2004. The purchase allowed him to defer paying federal capital gains taxes on a separate piece of Georgia land  —   which he had previously sold at a profit. When that transaction was completed, Mr. Perdue still owed Georgia about $100, 000 in state taxes. Then, Mr. Perdue signed a bill the following year eliminating that state tax obligation  —   as state law was changed to allow   rollover relief on capital gains, even if the new property being purchased was out of state. During deliberations on the legislation, Larry O’Neal, a member of the Georgia House of Representatives who also worked part time as a personal lawyer for Mr. Perdue, intervened to make the change in that provision retroactive. That meant it would cover Mr. Perdue’s 2004 land deal, saving the governor $100, 000, The   reported at the time. Mr. Perdue’s spokeswoman said the change in state law was not intended to benefit Mr. Perdue. “It benefited all Georgians,” the statement said. Scott Faber of the Environmental Working Group, a nonprofit organization that keeps a close watch on policies at the Agriculture Department, said he had questions about Mr. Perdue’s fitness to take over the department. “Given his record of   and conflicts of interest as governor of Georgia, it is fair to ask if he is fit to run a $    federal agency,” Mr. Faber said. But Mr. Duvall, of the American Farm Bureau Federation, believes the opposite. Mr. Duvall said that as a former farmer, Mr. Perdue is just what the nation needs to run the department. “He has worked on a farm and owned businesses that buy and sell grain domestically and internationally,” Mr. Duvall said. “It ought to be a requirement that someone who runs the U. S. D. A. knows something about farming. And Sonny certainly does. ”'"
      ]
     },
     "execution_count": 20,
     "metadata": {},
     "output_type": "execute_result"
    }
   ],
   "source": [
    "# 1. Remove HTML tags\n",
    "#Regex rule : ‘<.*?>’\n",
    "\n",
    "def clean(text):\n",
    "    cleaned = re.compile(r'<.*?>')\n",
    "    return re.sub(cleaned,'',text) # substring replace with ''(space)\n",
    "\n",
    "data.news = data.news.apply(clean)\n",
    "data.news[0]"
   ]
  },
  {
   "cell_type": "code",
   "execution_count": 21,
   "metadata": {},
   "outputs": [
    {
     "data": {
      "text/plain": [
       "'WASHINGTON      In Sonny Perdue s telling  Georgians were growing weary of the corruption and scandals in their state when he took over as governor in 2003      a time when he gave his own version of a  drain the swamp  pledge   My first goal as governor is to restore public trust in state government by changing the culture of state government   Mr  Perdue told a leadership conference at Kennesaw State University in April 2003   Our form of government depends on a mutual bond of trust between the people and their government  But people have become cynical about their government    But Mr  Perdue  a Republican who is awaiting confirmation to serve as President Trump s agriculture secretary  became a target of frequent criticism that he was failing to honor his own ethics pledge during his eight years as governor  The criticism centers on the fact that  as Mr  Trump has  he continued to own or help run his family business ventures      four   companies      while serving as governor  Mr  Perdue is one of the last cabinet members awaiting Senate confirmation  No date has been set for his confirmation hearing a holdup in the release of paperwork accompanying his nomination by the federal Office of Government Ethics has been blamed for the delay  The office must examine Mr  Perdue s proposal to avoid conflicts of interest while running the U  S  D  A  as the department is known  which may include selling off some of his farming assets  Before his tenure as governor ended in 2011  13 complaints had been filed against Mr  Perdue with the State Ethics Commission  which on two occasions ruled that the governor had violated state ethics laws  The commission took the unusual step of fining Mr  Perdue while he was governor  There were numerous other questions  including some about the role of Mr  Perdue s personal lawyer      also a state legislator      in pushing a bill through the legislature that included a special provision that gave Mr  Perdue  100  000 in state tax relief  And  when his tenure as governor was coming to a close  Mr  Perdue met with Georgia officials who oversee the state s ports to discuss use of a terminal for a family business  according to documents obtained by The Atlanta    Soon after he left office  in fact  he opened a new company that specialized in exporting products through Savannah   When you are a public official you are supposed to be acting entirely on behalf of the public and not for   said Yasha Heidari  former senior legal counsel to the State Ethics Commission   Looking at his record  as both an attorney and a citizen of the state  I had serious concerns    In a written statement  a spokeswoman for Mr  Perdue rejected that assessment  saying that the frequent criticism he faced while governor was largely politically motivated   There hadn t been a Republican governor in Georgia for 135 years   the statement said   Governor Perdue was the David who slew the Democrats  Goliath    During the wait for Mr  Perdue s confirmation hearing  some in the farming industry have come to his defense   I don t think you are going to find a man any more honorable than Sonny Perdue   said Zippy Duvall  a Georgia cattle and poultry farmer who is the president of the American Farm Bureau Federation  adding that he had known Mr  Perdue for about a decade   He is as ethical as they come    Born into a family of farmers  Mr  Perdue played college football as a   at the University of Georgia  and later worked briefly as a practicing veterinarian  He rose through the ranks of the state legislature and  in the late 1990s  switched his party affiliation from Democrat to Republican because  he said  the state party had lost its focus on family values  One of Mr  Perdue s first acts after he was sworn in as governor in January 2003 was to sign an executive order establishing a new code of ethics for executive branch employees  The order  which applied to the governor himself  prohibited state employees from using their powers for  any financial or other personal benefit  and barred them from taking any gifts worth more than  25   In carrying out their official duties and obligations  all officers and employees of state government must work solely for the public good  striving vigilantly to avoid even the appearance that their actions are motivated by private or personal interest   the 2003 executive order said  But Mr  Perdue ended up collecting at least  25  000 worth of benefits or gifts during his years as governor  state records show  The gifts ranged from tickets to a Nascar race and football games to flights paid for by Altria  the tobacco company  and by CSX  the railroad giant  according to a 2010 report by Citizens for Responsibility and Ethics in Washington  a liberal nonprofit group  Mr  Perdue s spokeswoman  in the written statement  said that none of these gifts violated the ban because the  trips were for official state business and were perfectly acceptable as saving taxpayer funds     The gifts were to the state   the statement read   not to the governor    The fine by the State Ethics Commission in 2005 came after the commission concluded that Mr  Perdue had failed to properly report the use of an airplane owned by one of his family s businesses for a   trip  The commission also found that he had taken campaign contributions in amounts that exceeded state limits from several donors      including a political action committee run by SunTrust  the   bank  Mr  Perdue called the violations technical  and the investigation politically motivated  Teddy Lee  the executive secretary of the State Ethics Commission  was fired from his job in January 2006  and in an interview he blamed Mr  Perdue for his firing  Mr  Lee had served in the job under four governors   This looked like a political hit to me   Mr  Lee said  Mr  Lee s dismissal came as Mr  Perdue was seeking   and just months before his largest scandal emerged  over a  100  000 state tax break he received thanks to a legislative maneuver engineered by a lawmaker who was also his personal lawyer  The focus of the controversy was a piece of property in Florida that Mr  Perdue purchased in 2004  The purchase allowed him to defer paying federal capital gains taxes on a separate piece of Georgia land      which he had previously sold at a profit  When that transaction was completed  Mr  Perdue still owed Georgia about  100  000 in state taxes  Then  Mr  Perdue signed a bill the following year eliminating that state tax obligation      as state law was changed to allow   rollover relief on capital gains  even if the new property being purchased was out of state  During deliberations on the legislation  Larry O Neal  a member of the Georgia House of Representatives who also worked part time as a personal lawyer for Mr  Perdue  intervened to make the change in that provision retroactive  That meant it would cover Mr  Perdue s 2004 land deal  saving the governor  100  000  The   reported at the time  Mr  Perdue s spokeswoman said the change in state law was not intended to benefit Mr  Perdue   It benefited all Georgians   the statement said  Scott Faber of the Environmental Working Group  a nonprofit organization that keeps a close watch on policies at the Agriculture Department  said he had questions about Mr  Perdue s fitness to take over the department   Given his record of   and conflicts of interest as governor of Georgia  it is fair to ask if he is fit to run a      federal agency   Mr  Faber said  But Mr  Duvall  of the American Farm Bureau Federation  believes the opposite  Mr  Duvall said that as a former farmer  Mr  Perdue is just what the nation needs to run the department   He has worked on a farm and owned businesses that buy and sell grain domestically and internationally   Mr  Duvall said   It ought to be a requirement that someone who runs the U  S  D  A  knows something about farming  And Sonny certainly does   '"
      ]
     },
     "execution_count": 21,
     "metadata": {},
     "output_type": "execute_result"
    }
   ],
   "source": [
    "# 2. Remove special characters\n",
    "def is_special(text):\n",
    "    rem = ''\n",
    "    for i in text:\n",
    "        if i.isalnum():\n",
    "            rem = rem + i\n",
    "        else:\n",
    "            rem = rem + ' '\n",
    "    return rem\n",
    "\n",
    "data.news = data.news.apply(is_special)\n",
    "data.news[0]"
   ]
  },
  {
   "cell_type": "code",
   "execution_count": 22,
   "metadata": {},
   "outputs": [
    {
     "data": {
      "text/plain": [
       "'washington      in sonny perdue s telling  georgians were growing weary of the corruption and scandals in their state when he took over as governor in 2003      a time when he gave his own version of a  drain the swamp  pledge   my first goal as governor is to restore public trust in state government by changing the culture of state government   mr  perdue told a leadership conference at kennesaw state university in april 2003   our form of government depends on a mutual bond of trust between the people and their government  but people have become cynical about their government    but mr  perdue  a republican who is awaiting confirmation to serve as president trump s agriculture secretary  became a target of frequent criticism that he was failing to honor his own ethics pledge during his eight years as governor  the criticism centers on the fact that  as mr  trump has  he continued to own or help run his family business ventures      four   companies      while serving as governor  mr  perdue is one of the last cabinet members awaiting senate confirmation  no date has been set for his confirmation hearing a holdup in the release of paperwork accompanying his nomination by the federal office of government ethics has been blamed for the delay  the office must examine mr  perdue s proposal to avoid conflicts of interest while running the u  s  d  a  as the department is known  which may include selling off some of his farming assets  before his tenure as governor ended in 2011  13 complaints had been filed against mr  perdue with the state ethics commission  which on two occasions ruled that the governor had violated state ethics laws  the commission took the unusual step of fining mr  perdue while he was governor  there were numerous other questions  including some about the role of mr  perdue s personal lawyer      also a state legislator      in pushing a bill through the legislature that included a special provision that gave mr  perdue  100  000 in state tax relief  and  when his tenure as governor was coming to a close  mr  perdue met with georgia officials who oversee the state s ports to discuss use of a terminal for a family business  according to documents obtained by the atlanta    soon after he left office  in fact  he opened a new company that specialized in exporting products through savannah   when you are a public official you are supposed to be acting entirely on behalf of the public and not for   said yasha heidari  former senior legal counsel to the state ethics commission   looking at his record  as both an attorney and a citizen of the state  i had serious concerns    in a written statement  a spokeswoman for mr  perdue rejected that assessment  saying that the frequent criticism he faced while governor was largely politically motivated   there hadn t been a republican governor in georgia for 135 years   the statement said   governor perdue was the david who slew the democrats  goliath    during the wait for mr  perdue s confirmation hearing  some in the farming industry have come to his defense   i don t think you are going to find a man any more honorable than sonny perdue   said zippy duvall  a georgia cattle and poultry farmer who is the president of the american farm bureau federation  adding that he had known mr  perdue for about a decade   he is as ethical as they come    born into a family of farmers  mr  perdue played college football as a   at the university of georgia  and later worked briefly as a practicing veterinarian  he rose through the ranks of the state legislature and  in the late 1990s  switched his party affiliation from democrat to republican because  he said  the state party had lost its focus on family values  one of mr  perdue s first acts after he was sworn in as governor in january 2003 was to sign an executive order establishing a new code of ethics for executive branch employees  the order  which applied to the governor himself  prohibited state employees from using their powers for  any financial or other personal benefit  and barred them from taking any gifts worth more than  25   in carrying out their official duties and obligations  all officers and employees of state government must work solely for the public good  striving vigilantly to avoid even the appearance that their actions are motivated by private or personal interest   the 2003 executive order said  but mr  perdue ended up collecting at least  25  000 worth of benefits or gifts during his years as governor  state records show  the gifts ranged from tickets to a nascar race and football games to flights paid for by altria  the tobacco company  and by csx  the railroad giant  according to a 2010 report by citizens for responsibility and ethics in washington  a liberal nonprofit group  mr  perdue s spokeswoman  in the written statement  said that none of these gifts violated the ban because the  trips were for official state business and were perfectly acceptable as saving taxpayer funds     the gifts were to the state   the statement read   not to the governor    the fine by the state ethics commission in 2005 came after the commission concluded that mr  perdue had failed to properly report the use of an airplane owned by one of his family s businesses for a   trip  the commission also found that he had taken campaign contributions in amounts that exceeded state limits from several donors      including a political action committee run by suntrust  the   bank  mr  perdue called the violations technical  and the investigation politically motivated  teddy lee  the executive secretary of the state ethics commission  was fired from his job in january 2006  and in an interview he blamed mr  perdue for his firing  mr  lee had served in the job under four governors   this looked like a political hit to me   mr  lee said  mr  lee s dismissal came as mr  perdue was seeking   and just months before his largest scandal emerged  over a  100  000 state tax break he received thanks to a legislative maneuver engineered by a lawmaker who was also his personal lawyer  the focus of the controversy was a piece of property in florida that mr  perdue purchased in 2004  the purchase allowed him to defer paying federal capital gains taxes on a separate piece of georgia land      which he had previously sold at a profit  when that transaction was completed  mr  perdue still owed georgia about  100  000 in state taxes  then  mr  perdue signed a bill the following year eliminating that state tax obligation      as state law was changed to allow   rollover relief on capital gains  even if the new property being purchased was out of state  during deliberations on the legislation  larry o neal  a member of the georgia house of representatives who also worked part time as a personal lawyer for mr  perdue  intervened to make the change in that provision retroactive  that meant it would cover mr  perdue s 2004 land deal  saving the governor  100  000  the   reported at the time  mr  perdue s spokeswoman said the change in state law was not intended to benefit mr  perdue   it benefited all georgians   the statement said  scott faber of the environmental working group  a nonprofit organization that keeps a close watch on policies at the agriculture department  said he had questions about mr  perdue s fitness to take over the department   given his record of   and conflicts of interest as governor of georgia  it is fair to ask if he is fit to run a      federal agency   mr  faber said  but mr  duvall  of the american farm bureau federation  believes the opposite  mr  duvall said that as a former farmer  mr  perdue is just what the nation needs to run the department   he has worked on a farm and owned businesses that buy and sell grain domestically and internationally   mr  duvall said   it ought to be a requirement that someone who runs the u  s  d  a  knows something about farming  and sonny certainly does   '"
      ]
     },
     "execution_count": 22,
     "metadata": {},
     "output_type": "execute_result"
    }
   ],
   "source": [
    "# 3. Convert everything to lowercase\n",
    "def to_lower(text):\n",
    "    return text.lower()\n",
    "\n",
    "data.news = data.news.apply(to_lower)\n",
    "data.news[0]"
   ]
  },
  {
   "cell_type": "code",
   "execution_count": 23,
   "metadata": {},
   "outputs": [
    {
     "data": {
      "text/plain": [
       "['washington',\n",
       " 'sonny',\n",
       " 'perdue',\n",
       " 'telling',\n",
       " 'georgians',\n",
       " 'growing',\n",
       " 'weary',\n",
       " 'corruption',\n",
       " 'scandals',\n",
       " 'state',\n",
       " 'took',\n",
       " 'governor',\n",
       " '2003',\n",
       " 'time',\n",
       " 'gave',\n",
       " 'version',\n",
       " 'drain',\n",
       " 'swamp',\n",
       " 'pledge',\n",
       " 'first',\n",
       " 'goal',\n",
       " 'governor',\n",
       " 'restore',\n",
       " 'public',\n",
       " 'trust',\n",
       " 'state',\n",
       " 'government',\n",
       " 'changing',\n",
       " 'culture',\n",
       " 'state',\n",
       " 'government',\n",
       " 'mr',\n",
       " 'perdue',\n",
       " 'told',\n",
       " 'leadership',\n",
       " 'conference',\n",
       " 'kennesaw',\n",
       " 'state',\n",
       " 'university',\n",
       " 'april',\n",
       " '2003',\n",
       " 'form',\n",
       " 'government',\n",
       " 'depends',\n",
       " 'mutual',\n",
       " 'bond',\n",
       " 'trust',\n",
       " 'people',\n",
       " 'government',\n",
       " 'people',\n",
       " 'become',\n",
       " 'cynical',\n",
       " 'government',\n",
       " 'mr',\n",
       " 'perdue',\n",
       " 'republican',\n",
       " 'awaiting',\n",
       " 'confirmation',\n",
       " 'serve',\n",
       " 'president',\n",
       " 'trump',\n",
       " 'agriculture',\n",
       " 'secretary',\n",
       " 'became',\n",
       " 'target',\n",
       " 'frequent',\n",
       " 'criticism',\n",
       " 'failing',\n",
       " 'honor',\n",
       " 'ethics',\n",
       " 'pledge',\n",
       " 'eight',\n",
       " 'years',\n",
       " 'governor',\n",
       " 'criticism',\n",
       " 'centers',\n",
       " 'fact',\n",
       " 'mr',\n",
       " 'trump',\n",
       " 'continued',\n",
       " 'help',\n",
       " 'run',\n",
       " 'family',\n",
       " 'business',\n",
       " 'ventures',\n",
       " 'four',\n",
       " 'companies',\n",
       " 'serving',\n",
       " 'governor',\n",
       " 'mr',\n",
       " 'perdue',\n",
       " 'one',\n",
       " 'last',\n",
       " 'cabinet',\n",
       " 'members',\n",
       " 'awaiting',\n",
       " 'senate',\n",
       " 'confirmation',\n",
       " 'date',\n",
       " 'set',\n",
       " 'confirmation',\n",
       " 'hearing',\n",
       " 'holdup',\n",
       " 'release',\n",
       " 'paperwork',\n",
       " 'accompanying',\n",
       " 'nomination',\n",
       " 'federal',\n",
       " 'office',\n",
       " 'government',\n",
       " 'ethics',\n",
       " 'blamed',\n",
       " 'delay',\n",
       " 'office',\n",
       " 'must',\n",
       " 'examine',\n",
       " 'mr',\n",
       " 'perdue',\n",
       " 'proposal',\n",
       " 'avoid',\n",
       " 'conflicts',\n",
       " 'interest',\n",
       " 'running',\n",
       " 'u',\n",
       " 'department',\n",
       " 'known',\n",
       " 'may',\n",
       " 'include',\n",
       " 'selling',\n",
       " 'farming',\n",
       " 'assets',\n",
       " 'tenure',\n",
       " 'governor',\n",
       " 'ended',\n",
       " '2011',\n",
       " '13',\n",
       " 'complaints',\n",
       " 'filed',\n",
       " 'mr',\n",
       " 'perdue',\n",
       " 'state',\n",
       " 'ethics',\n",
       " 'commission',\n",
       " 'two',\n",
       " 'occasions',\n",
       " 'ruled',\n",
       " 'governor',\n",
       " 'violated',\n",
       " 'state',\n",
       " 'ethics',\n",
       " 'laws',\n",
       " 'commission',\n",
       " 'took',\n",
       " 'unusual',\n",
       " 'step',\n",
       " 'fining',\n",
       " 'mr',\n",
       " 'perdue',\n",
       " 'governor',\n",
       " 'numerous',\n",
       " 'questions',\n",
       " 'including',\n",
       " 'role',\n",
       " 'mr',\n",
       " 'perdue',\n",
       " 'personal',\n",
       " 'lawyer',\n",
       " 'also',\n",
       " 'state',\n",
       " 'legislator',\n",
       " 'pushing',\n",
       " 'bill',\n",
       " 'legislature',\n",
       " 'included',\n",
       " 'special',\n",
       " 'provision',\n",
       " 'gave',\n",
       " 'mr',\n",
       " 'perdue',\n",
       " '100',\n",
       " '000',\n",
       " 'state',\n",
       " 'tax',\n",
       " 'relief',\n",
       " 'tenure',\n",
       " 'governor',\n",
       " 'coming',\n",
       " 'close',\n",
       " 'mr',\n",
       " 'perdue',\n",
       " 'met',\n",
       " 'georgia',\n",
       " 'officials',\n",
       " 'oversee',\n",
       " 'state',\n",
       " 'ports',\n",
       " 'discuss',\n",
       " 'use',\n",
       " 'terminal',\n",
       " 'family',\n",
       " 'business',\n",
       " 'according',\n",
       " 'documents',\n",
       " 'obtained',\n",
       " 'atlanta',\n",
       " 'soon',\n",
       " 'left',\n",
       " 'office',\n",
       " 'fact',\n",
       " 'opened',\n",
       " 'new',\n",
       " 'company',\n",
       " 'specialized',\n",
       " 'exporting',\n",
       " 'products',\n",
       " 'savannah',\n",
       " 'public',\n",
       " 'official',\n",
       " 'supposed',\n",
       " 'acting',\n",
       " 'entirely',\n",
       " 'behalf',\n",
       " 'public',\n",
       " 'said',\n",
       " 'yasha',\n",
       " 'heidari',\n",
       " 'former',\n",
       " 'senior',\n",
       " 'legal',\n",
       " 'counsel',\n",
       " 'state',\n",
       " 'ethics',\n",
       " 'commission',\n",
       " 'looking',\n",
       " 'record',\n",
       " 'attorney',\n",
       " 'citizen',\n",
       " 'state',\n",
       " 'serious',\n",
       " 'concerns',\n",
       " 'written',\n",
       " 'statement',\n",
       " 'spokeswoman',\n",
       " 'mr',\n",
       " 'perdue',\n",
       " 'rejected',\n",
       " 'assessment',\n",
       " 'saying',\n",
       " 'frequent',\n",
       " 'criticism',\n",
       " 'faced',\n",
       " 'governor',\n",
       " 'largely',\n",
       " 'politically',\n",
       " 'motivated',\n",
       " 'republican',\n",
       " 'governor',\n",
       " 'georgia',\n",
       " '135',\n",
       " 'years',\n",
       " 'statement',\n",
       " 'said',\n",
       " 'governor',\n",
       " 'perdue',\n",
       " 'david',\n",
       " 'slew',\n",
       " 'democrats',\n",
       " 'goliath',\n",
       " 'wait',\n",
       " 'mr',\n",
       " 'perdue',\n",
       " 'confirmation',\n",
       " 'hearing',\n",
       " 'farming',\n",
       " 'industry',\n",
       " 'come',\n",
       " 'defense',\n",
       " 'think',\n",
       " 'going',\n",
       " 'find',\n",
       " 'man',\n",
       " 'honorable',\n",
       " 'sonny',\n",
       " 'perdue',\n",
       " 'said',\n",
       " 'zippy',\n",
       " 'duvall',\n",
       " 'georgia',\n",
       " 'cattle',\n",
       " 'poultry',\n",
       " 'farmer',\n",
       " 'president',\n",
       " 'american',\n",
       " 'farm',\n",
       " 'bureau',\n",
       " 'federation',\n",
       " 'adding',\n",
       " 'known',\n",
       " 'mr',\n",
       " 'perdue',\n",
       " 'decade',\n",
       " 'ethical',\n",
       " 'come',\n",
       " 'born',\n",
       " 'family',\n",
       " 'farmers',\n",
       " 'mr',\n",
       " 'perdue',\n",
       " 'played',\n",
       " 'college',\n",
       " 'football',\n",
       " 'university',\n",
       " 'georgia',\n",
       " 'later',\n",
       " 'worked',\n",
       " 'briefly',\n",
       " 'practicing',\n",
       " 'veterinarian',\n",
       " 'rose',\n",
       " 'ranks',\n",
       " 'state',\n",
       " 'legislature',\n",
       " 'late',\n",
       " '1990s',\n",
       " 'switched',\n",
       " 'party',\n",
       " 'affiliation',\n",
       " 'democrat',\n",
       " 'republican',\n",
       " 'said',\n",
       " 'state',\n",
       " 'party',\n",
       " 'lost',\n",
       " 'focus',\n",
       " 'family',\n",
       " 'values',\n",
       " 'one',\n",
       " 'mr',\n",
       " 'perdue',\n",
       " 'first',\n",
       " 'acts',\n",
       " 'sworn',\n",
       " 'governor',\n",
       " 'january',\n",
       " '2003',\n",
       " 'sign',\n",
       " 'executive',\n",
       " 'order',\n",
       " 'establishing',\n",
       " 'new',\n",
       " 'code',\n",
       " 'ethics',\n",
       " 'executive',\n",
       " 'branch',\n",
       " 'employees',\n",
       " 'order',\n",
       " 'applied',\n",
       " 'governor',\n",
       " 'prohibited',\n",
       " 'state',\n",
       " 'employees',\n",
       " 'using',\n",
       " 'powers',\n",
       " 'financial',\n",
       " 'personal',\n",
       " 'benefit',\n",
       " 'barred',\n",
       " 'taking',\n",
       " 'gifts',\n",
       " 'worth',\n",
       " '25',\n",
       " 'carrying',\n",
       " 'official',\n",
       " 'duties',\n",
       " 'obligations',\n",
       " 'officers',\n",
       " 'employees',\n",
       " 'state',\n",
       " 'government',\n",
       " 'must',\n",
       " 'work',\n",
       " 'solely',\n",
       " 'public',\n",
       " 'good',\n",
       " 'striving',\n",
       " 'vigilantly',\n",
       " 'avoid',\n",
       " 'even',\n",
       " 'appearance',\n",
       " 'actions',\n",
       " 'motivated',\n",
       " 'private',\n",
       " 'personal',\n",
       " 'interest',\n",
       " '2003',\n",
       " 'executive',\n",
       " 'order',\n",
       " 'said',\n",
       " 'mr',\n",
       " 'perdue',\n",
       " 'ended',\n",
       " 'collecting',\n",
       " 'least',\n",
       " '25',\n",
       " '000',\n",
       " 'worth',\n",
       " 'benefits',\n",
       " 'gifts',\n",
       " 'years',\n",
       " 'governor',\n",
       " 'state',\n",
       " 'records',\n",
       " 'show',\n",
       " 'gifts',\n",
       " 'ranged',\n",
       " 'tickets',\n",
       " 'nascar',\n",
       " 'race',\n",
       " 'football',\n",
       " 'games',\n",
       " 'flights',\n",
       " 'paid',\n",
       " 'altria',\n",
       " 'tobacco',\n",
       " 'company',\n",
       " 'csx',\n",
       " 'railroad',\n",
       " 'giant',\n",
       " 'according',\n",
       " '2010',\n",
       " 'report',\n",
       " 'citizens',\n",
       " 'responsibility',\n",
       " 'ethics',\n",
       " 'washington',\n",
       " 'liberal',\n",
       " 'nonprofit',\n",
       " 'group',\n",
       " 'mr',\n",
       " 'perdue',\n",
       " 'spokeswoman',\n",
       " 'written',\n",
       " 'statement',\n",
       " 'said',\n",
       " 'none',\n",
       " 'gifts',\n",
       " 'violated',\n",
       " 'ban',\n",
       " 'trips',\n",
       " 'official',\n",
       " 'state',\n",
       " 'business',\n",
       " 'perfectly',\n",
       " 'acceptable',\n",
       " 'saving',\n",
       " 'taxpayer',\n",
       " 'funds',\n",
       " 'gifts',\n",
       " 'state',\n",
       " 'statement',\n",
       " 'read',\n",
       " 'governor',\n",
       " 'fine',\n",
       " 'state',\n",
       " 'ethics',\n",
       " 'commission',\n",
       " '2005',\n",
       " 'came',\n",
       " 'commission',\n",
       " 'concluded',\n",
       " 'mr',\n",
       " 'perdue',\n",
       " 'failed',\n",
       " 'properly',\n",
       " 'report',\n",
       " 'use',\n",
       " 'airplane',\n",
       " 'owned',\n",
       " 'one',\n",
       " 'family',\n",
       " 'businesses',\n",
       " 'trip',\n",
       " 'commission',\n",
       " 'also',\n",
       " 'found',\n",
       " 'taken',\n",
       " 'campaign',\n",
       " 'contributions',\n",
       " 'amounts',\n",
       " 'exceeded',\n",
       " 'state',\n",
       " 'limits',\n",
       " 'several',\n",
       " 'donors',\n",
       " 'including',\n",
       " 'political',\n",
       " 'action',\n",
       " 'committee',\n",
       " 'run',\n",
       " 'suntrust',\n",
       " 'bank',\n",
       " 'mr',\n",
       " 'perdue',\n",
       " 'called',\n",
       " 'violations',\n",
       " 'technical',\n",
       " 'investigation',\n",
       " 'politically',\n",
       " 'motivated',\n",
       " 'teddy',\n",
       " 'lee',\n",
       " 'executive',\n",
       " 'secretary',\n",
       " 'state',\n",
       " 'ethics',\n",
       " 'commission',\n",
       " 'fired',\n",
       " 'job',\n",
       " 'january',\n",
       " '2006',\n",
       " 'interview',\n",
       " 'blamed',\n",
       " 'mr',\n",
       " 'perdue',\n",
       " 'firing',\n",
       " 'mr',\n",
       " 'lee',\n",
       " 'served',\n",
       " 'job',\n",
       " 'four',\n",
       " 'governors',\n",
       " 'looked',\n",
       " 'like',\n",
       " 'political',\n",
       " 'hit',\n",
       " 'mr',\n",
       " 'lee',\n",
       " 'said',\n",
       " 'mr',\n",
       " 'lee',\n",
       " 'dismissal',\n",
       " 'came',\n",
       " 'mr',\n",
       " 'perdue',\n",
       " 'seeking',\n",
       " 'months',\n",
       " 'largest',\n",
       " 'scandal',\n",
       " 'emerged',\n",
       " '100',\n",
       " '000',\n",
       " 'state',\n",
       " 'tax',\n",
       " 'break',\n",
       " 'received',\n",
       " 'thanks',\n",
       " 'legislative',\n",
       " 'maneuver',\n",
       " 'engineered',\n",
       " 'lawmaker',\n",
       " 'also',\n",
       " 'personal',\n",
       " 'lawyer',\n",
       " 'focus',\n",
       " 'controversy',\n",
       " 'piece',\n",
       " 'property',\n",
       " 'florida',\n",
       " 'mr',\n",
       " 'perdue',\n",
       " 'purchased',\n",
       " '2004',\n",
       " 'purchase',\n",
       " 'allowed',\n",
       " 'defer',\n",
       " 'paying',\n",
       " 'federal',\n",
       " 'capital',\n",
       " 'gains',\n",
       " 'taxes',\n",
       " 'separate',\n",
       " 'piece',\n",
       " 'georgia',\n",
       " 'land',\n",
       " 'previously',\n",
       " 'sold',\n",
       " 'profit',\n",
       " 'transaction',\n",
       " 'completed',\n",
       " 'mr',\n",
       " 'perdue',\n",
       " 'still',\n",
       " 'owed',\n",
       " 'georgia',\n",
       " '100',\n",
       " '000',\n",
       " 'state',\n",
       " 'taxes',\n",
       " 'mr',\n",
       " 'perdue',\n",
       " 'signed',\n",
       " 'bill',\n",
       " 'following',\n",
       " 'year',\n",
       " 'eliminating',\n",
       " 'state',\n",
       " 'tax',\n",
       " 'obligation',\n",
       " 'state',\n",
       " 'law',\n",
       " 'changed',\n",
       " 'allow',\n",
       " 'rollover',\n",
       " 'relief',\n",
       " 'capital',\n",
       " 'gains',\n",
       " 'even',\n",
       " 'new',\n",
       " 'property',\n",
       " 'purchased',\n",
       " 'state',\n",
       " 'deliberations',\n",
       " 'legislation',\n",
       " 'larry',\n",
       " 'neal',\n",
       " 'member',\n",
       " 'georgia',\n",
       " 'house',\n",
       " 'representatives',\n",
       " 'also',\n",
       " 'worked',\n",
       " 'part',\n",
       " 'time',\n",
       " 'personal',\n",
       " 'lawyer',\n",
       " 'mr',\n",
       " 'perdue',\n",
       " 'intervened',\n",
       " 'make',\n",
       " 'change',\n",
       " 'provision',\n",
       " 'retroactive',\n",
       " 'meant',\n",
       " 'would',\n",
       " 'cover',\n",
       " 'mr',\n",
       " 'perdue',\n",
       " '2004',\n",
       " 'land',\n",
       " 'deal',\n",
       " 'saving',\n",
       " 'governor',\n",
       " '100',\n",
       " '000',\n",
       " 'reported',\n",
       " 'time',\n",
       " 'mr',\n",
       " 'perdue',\n",
       " 'spokeswoman',\n",
       " 'said',\n",
       " 'change',\n",
       " 'state',\n",
       " 'law',\n",
       " 'intended',\n",
       " 'benefit',\n",
       " 'mr',\n",
       " 'perdue',\n",
       " 'benefited',\n",
       " 'georgians',\n",
       " 'statement',\n",
       " 'said',\n",
       " 'scott',\n",
       " 'faber',\n",
       " 'environmental',\n",
       " 'working',\n",
       " 'group',\n",
       " 'nonprofit',\n",
       " 'organization',\n",
       " 'keeps',\n",
       " 'close',\n",
       " 'watch',\n",
       " 'policies',\n",
       " 'agriculture',\n",
       " 'department',\n",
       " 'said',\n",
       " 'questions',\n",
       " 'mr',\n",
       " 'perdue',\n",
       " 'fitness',\n",
       " 'take',\n",
       " 'department',\n",
       " 'given',\n",
       " 'record',\n",
       " 'conflicts',\n",
       " 'interest',\n",
       " 'governor',\n",
       " 'georgia',\n",
       " 'fair',\n",
       " 'ask',\n",
       " 'fit',\n",
       " 'run',\n",
       " 'federal',\n",
       " 'agency',\n",
       " 'mr',\n",
       " 'faber',\n",
       " 'said',\n",
       " 'mr',\n",
       " 'duvall',\n",
       " 'american',\n",
       " 'farm',\n",
       " 'bureau',\n",
       " 'federation',\n",
       " 'believes',\n",
       " 'opposite',\n",
       " 'mr',\n",
       " 'duvall',\n",
       " 'said',\n",
       " 'former',\n",
       " 'farmer',\n",
       " 'mr',\n",
       " 'perdue',\n",
       " 'nation',\n",
       " 'needs',\n",
       " 'run',\n",
       " 'department',\n",
       " 'worked',\n",
       " 'farm',\n",
       " 'owned',\n",
       " 'businesses',\n",
       " 'buy',\n",
       " 'sell',\n",
       " 'grain',\n",
       " 'domestically',\n",
       " 'internationally',\n",
       " 'mr',\n",
       " 'duvall',\n",
       " 'said',\n",
       " 'ought',\n",
       " 'requirement',\n",
       " 'someone',\n",
       " 'runs',\n",
       " 'u',\n",
       " 'knows',\n",
       " 'something',\n",
       " 'farming',\n",
       " 'sonny',\n",
       " 'certainly']"
      ]
     },
     "execution_count": 23,
     "metadata": {},
     "output_type": "execute_result"
    }
   ],
   "source": [
    "# 4. Remove stopwords\n",
    "def rem_stopwords(text):\n",
    "    stop_words = set(stopwords.words('english'))\n",
    "    words = word_tokenize(text)\n",
    "    return [w for w in words if w not in stop_words]\n",
    "\n",
    "data.news = data.news.apply(rem_stopwords)\n",
    "data.news[0]"
   ]
  },
  {
   "cell_type": "code",
   "execution_count": 24,
   "metadata": {},
   "outputs": [
    {
     "data": {
      "text/plain": [
       "'washington sonni perdu tell georgian grow weari corrupt scandal state took governor 2003 time gave version drain swamp pledg first goal governor restor public trust state govern chang cultur state govern mr perdu told leadership confer kennesaw state univers april 2003 form govern depend mutual bond trust peopl govern peopl becom cynic govern mr perdu republican await confirm serv presid trump agricultur secretari becam target frequent critic fail honor ethic pledg eight year governor critic center fact mr trump continu help run famili busi ventur four compani serv governor mr perdu one last cabinet member await senat confirm date set confirm hear holdup releas paperwork accompani nomin feder offic govern ethic blame delay offic must examin mr perdu propos avoid conflict interest run u depart known may includ sell farm asset tenur governor end 2011 13 complaint file mr perdu state ethic commiss two occas rule governor violat state ethic law commiss took unusu step fine mr perdu governor numer question includ role mr perdu person lawyer also state legisl push bill legislatur includ special provis gave mr perdu 100 000 state tax relief tenur governor come close mr perdu met georgia offici overse state port discuss use termin famili busi accord document obtain atlanta soon left offic fact open new compani special export product savannah public offici suppos act entir behalf public said yasha heidari former senior legal counsel state ethic commiss look record attorney citizen state serious concern written statement spokeswoman mr perdu reject assess say frequent critic face governor larg polit motiv republican governor georgia 135 year statement said governor perdu david slew democrat goliath wait mr perdu confirm hear farm industri come defens think go find man honor sonni perdu said zippi duval georgia cattl poultri farmer presid american farm bureau feder ad known mr perdu decad ethic come born famili farmer mr perdu play colleg footbal univers georgia later work briefli practic veterinarian rose rank state legislatur late 1990s switch parti affili democrat republican said state parti lost focus famili valu one mr perdu first act sworn governor januari 2003 sign execut order establish new code ethic execut branch employe order appli governor prohibit state employe use power financi person benefit bar take gift worth 25 carri offici duti oblig offic employe state govern must work sole public good strive vigil avoid even appear action motiv privat person interest 2003 execut order said mr perdu end collect least 25 000 worth benefit gift year governor state record show gift rang ticket nascar race footbal game flight paid altria tobacco compani csx railroad giant accord 2010 report citizen respons ethic washington liber nonprofit group mr perdu spokeswoman written statement said none gift violat ban trip offici state busi perfect accept save taxpay fund gift state statement read governor fine state ethic commiss 2005 came commiss conclud mr perdu fail proper report use airplan own one famili busi trip commiss also found taken campaign contribut amount exceed state limit sever donor includ polit action committe run suntrust bank mr perdu call violat technic investig polit motiv teddi lee execut secretari state ethic commiss fire job januari 2006 interview blame mr perdu fire mr lee serv job four governor look like polit hit mr lee said mr lee dismiss came mr perdu seek month largest scandal emerg 100 000 state tax break receiv thank legisl maneuv engin lawmak also person lawyer focus controversi piec properti florida mr perdu purchas 2004 purchas allow defer pay feder capit gain tax separ piec georgia land previous sold profit transact complet mr perdu still owe georgia 100 000 state tax mr perdu sign bill follow year elimin state tax oblig state law chang allow rollov relief capit gain even new properti purchas state deliber legisl larri neal member georgia hous repres also work part time person lawyer mr perdu interven make chang provis retroact meant would cover mr perdu 2004 land deal save governor 100 000 report time mr perdu spokeswoman said chang state law intend benefit mr perdu benefit georgian statement said scott faber environment work group nonprofit organ keep close watch polici agricultur depart said question mr perdu fit take depart given record conflict interest governor georgia fair ask fit run feder agenc mr faber said mr duval american farm bureau feder believ opposit mr duval said former farmer mr perdu nation need run depart work farm own busi buy sell grain domest intern mr duval said ought requir someon run u know someth farm sonni certain'"
      ]
     },
     "execution_count": 24,
     "metadata": {},
     "output_type": "execute_result"
    }
   ],
   "source": [
    "# Stemming\n",
    "\n",
    "def stem_txt(text):\n",
    "    ss = SnowballStemmer('english')\n",
    "    return \" \".join([ss.stem(w) for w in text])\n",
    "\n",
    "data.news = data.news.apply(stem_txt)\n",
    "\n",
    "data.news[0]"
   ]
  },
  {
   "cell_type": "code",
   "execution_count": 25,
   "metadata": {},
   "outputs": [
    {
     "data": {
      "text/html": [
       "<div>\n",
       "<style scoped>\n",
       "    .dataframe tbody tr th:only-of-type {\n",
       "        vertical-align: middle;\n",
       "    }\n",
       "\n",
       "    .dataframe tbody tr th {\n",
       "        vertical-align: top;\n",
       "    }\n",
       "\n",
       "    .dataframe thead th {\n",
       "        text-align: right;\n",
       "    }\n",
       "</style>\n",
       "<table border=\"1\" class=\"dataframe\">\n",
       "  <thead>\n",
       "    <tr style=\"text-align: right;\">\n",
       "      <th></th>\n",
       "      <th>news</th>\n",
       "      <th>label</th>\n",
       "      <th>news_length</th>\n",
       "      <th>clean_news_length</th>\n",
       "    </tr>\n",
       "  </thead>\n",
       "  <tbody>\n",
       "    <tr>\n",
       "      <th>0</th>\n",
       "      <td>washington sonni perdu tell georgian grow wear...</td>\n",
       "      <td>0</td>\n",
       "      <td>7936</td>\n",
       "      <td>4644</td>\n",
       "    </tr>\n",
       "    <tr>\n",
       "      <th>1</th>\n",
       "      <td>houston venezuela plan tactic approach design ...</td>\n",
       "      <td>0</td>\n",
       "      <td>6112</td>\n",
       "      <td>3725</td>\n",
       "    </tr>\n",
       "    <tr>\n",
       "      <th>2</th>\n",
       "      <td>sunday abc week discuss republican plan repeal...</td>\n",
       "      <td>0</td>\n",
       "      <td>425</td>\n",
       "      <td>238</td>\n",
       "    </tr>\n",
       "    <tr>\n",
       "      <th>3</th>\n",
       "      <td>augusta beleagu republican governor main seem ...</td>\n",
       "      <td>0</td>\n",
       "      <td>6516</td>\n",
       "      <td>3809</td>\n",
       "    </tr>\n",
       "    <tr>\n",
       "      <th>4</th>\n",
       "      <td>finian cunningham written extens intern affair...</td>\n",
       "      <td>1</td>\n",
       "      <td>9164</td>\n",
       "      <td>5786</td>\n",
       "    </tr>\n",
       "  </tbody>\n",
       "</table>\n",
       "</div>"
      ],
      "text/plain": [
       "                                                news  label  news_length  \\\n",
       "0  washington sonni perdu tell georgian grow wear...      0         7936   \n",
       "1  houston venezuela plan tactic approach design ...      0         6112   \n",
       "2  sunday abc week discuss republican plan repeal...      0          425   \n",
       "3  augusta beleagu republican governor main seem ...      0         6516   \n",
       "4  finian cunningham written extens intern affair...      1         9164   \n",
       "\n",
       "   clean_news_length  \n",
       "0               4644  \n",
       "1               3725  \n",
       "2                238  \n",
       "3               3809  \n",
       "4               5786  "
      ]
     },
     "execution_count": 25,
     "metadata": {},
     "output_type": "execute_result"
    }
   ],
   "source": [
    "# Creating new column (clean_length) after removing puncuations,stopwords from news column to check how much data is cleaned\n",
    "data['clean_news_length'] = data.news.str.len()\n",
    "data.head()"
   ]
  },
  {
   "cell_type": "code",
   "execution_count": 26,
   "metadata": {},
   "outputs": [
    {
     "name": "stdout",
     "output_type": "stream",
     "text": [
      "Origional Length: 94518924\n",
      "Cleaned Length: 56811996\n",
      "Total Words Removed: 37706928\n"
     ]
    }
   ],
   "source": [
    "#Total length removal\n",
    "print(\"Origional Length:\",data.news_length.sum())\n",
    "print(\"Cleaned Length:\",data.clean_news_length.sum())\n",
    "print(\"Total Words Removed:\",(data.news_length.sum()) - (data.clean_news_length.sum()))"
   ]
  },
  {
   "cell_type": "markdown",
   "metadata": {},
   "source": [
    "Observation:- Here we see the difference between origional length of news column and cleaned length of news column.\n",
    "    "
   ]
  },
  {
   "cell_type": "code",
   "execution_count": 27,
   "metadata": {},
   "outputs": [
    {
     "data": {
      "image/png": "[encoded data removed]",
      "text/plain": [
       "<Figure size 432x288 with 1 Axes>"
      ]
     },
     "metadata": {
      "needs_background": "light"
     },
     "output_type": "display_data"
    },
    {
     "name": "stdout",
     "output_type": "stream",
     "text": [
      "0    10387\n",
      "1    10374\n",
      "Name: label, dtype: int64\n"
     ]
    }
   ],
   "source": [
    "# Plotting the count of label.\n",
    "\n",
    "plt.figure(figsize=(6,4))\n",
    "sns.countplot(data['label'],palette= 'rainbow')\n",
    "plt.title(\"Counting the number of labels\",fontsize=15)\n",
    "plt.xticks(rotation='horizontal')\n",
    "plt.show()\n",
    "\n",
    "print(data.label.value_counts())"
   ]
  },
  {
   "cell_type": "code",
   "execution_count": 28,
   "metadata": {},
   "outputs": [
    {
     "data": {
      "image/png": "[encoded data removed]",
      "text/plain": [
       "<Figure size 1080x576 with 2 Axes>"
      ]
     },
     "metadata": {
      "needs_background": "light"
     },
     "output_type": "display_data"
    }
   ],
   "source": [
    "# Plotting the distribution of news  before cleaning news\n",
    "\n",
    "f,ax = plt.subplots(1,2,figsize=(15,8))\n",
    "\n",
    "sns.distplot(data[data['label']==1]['news_length'],bins=20, ax=ax[0],label='Fake News Distribution',color='r')\n",
    "ax[0].set_xlabel('Fake News length')\n",
    "ax[0].legend()\n",
    "\n",
    "sns.distplot(data[data['label']==0]['news_length'],bins=20, ax=ax[1],label='Real News Distribution',color='g')\n",
    "ax[1].set_xlabel('Real News length')\n",
    "ax[1].legend()\n",
    "\n",
    "plt.show()"
   ]
  },
  {
   "cell_type": "code",
   "execution_count": 29,
   "metadata": {},
   "outputs": [
    {
     "data": {
      "image/png": "[encoded data removed]",
      "text/plain": [
       "<Figure size 1080x576 with 2 Axes>"
      ]
     },
     "metadata": {
      "needs_background": "light"
     },
     "output_type": "display_data"
    }
   ],
   "source": [
    "# Plotting the distribution of news  after cleaning news\n",
    "\n",
    "f,ax = plt.subplots(1,2,figsize=(15,8))\n",
    "\n",
    "sns.distplot(data[data['label']==1]['clean_news_length'],bins=20, ax=ax[0],label='Fake News Distribution',color='r')\n",
    "ax[0].set_xlabel('Fake News length')\n",
    "ax[0].legend()\n",
    "\n",
    "sns.distplot(data[data['label']==0]['clean_news_length'],bins=20, ax=ax[1],label='Real News Distribution',color='g')\n",
    "ax[1].set_xlabel('Real News length')\n",
    "ax[1].legend()\n",
    "\n",
    "plt.show()"
   ]
  },
  {
   "cell_type": "code",
   "execution_count": 30,
   "metadata": {},
   "outputs": [
    {
     "data": {
      "image/png": "[encoded data removed]",
      "text/plain": [
       "<Figure size 720x576 with 1 Axes>"
      ]
     },
     "metadata": {},
     "output_type": "display_data"
    }
   ],
   "source": [
    "#Getting sense of loud words in Fake News\n",
    "\n",
    "from wordcloud import WordCloud\n",
    "\n",
    "\n",
    "spams = data['news'][data['label']==1]\n",
    "\n",
    "spam_cloud = WordCloud(width=700,height=500,background_color='white',max_words=20).generate(' '.join(spams))\n",
    "\n",
    "plt.figure(figsize=(10,8),facecolor='r')\n",
    "plt.imshow(spam_cloud)\n",
    "plt.axis('off')\n",
    "plt.tight_layout(pad=0)\n",
    "plt.show()"
   ]
  },
  {
   "cell_type": "code",
   "execution_count": 31,
   "metadata": {},
   "outputs": [
    {
     "data": {
      "image/png": "[encoded data removed]",
      "text/plain": [
       "<Figure size 720x576 with 1 Axes>"
      ]
     },
     "metadata": {},
     "output_type": "display_data"
    }
   ],
   "source": [
    "#Getting sense of loud words in Real News\n",
    "\n",
    "from wordcloud import WordCloud\n",
    "\n",
    "\n",
    "not_spams = data['news'][data['label']==0]\n",
    "\n",
    "spam_cloud = WordCloud(width=700,height=500,background_color='white',max_words=20).generate(' '.join(not_spams))\n",
    "\n",
    "plt.figure(figsize=(10,8),facecolor='g')\n",
    "plt.imshow(spam_cloud)\n",
    "plt.axis('off')\n",
    "plt.tight_layout(pad=0)\n",
    "plt.show()"
   ]
  },
  {
   "cell_type": "code",
   "execution_count": 32,
   "metadata": {},
   "outputs": [
    {
     "data": {
      "text/html": [
       "<div>\n",
       "<style scoped>\n",
       "    .dataframe tbody tr th:only-of-type {\n",
       "        vertical-align: middle;\n",
       "    }\n",
       "\n",
       "    .dataframe tbody tr th {\n",
       "        vertical-align: top;\n",
       "    }\n",
       "\n",
       "    .dataframe thead th {\n",
       "        text-align: right;\n",
       "    }\n",
       "</style>\n",
       "<table border=\"1\" class=\"dataframe\">\n",
       "  <thead>\n",
       "    <tr style=\"text-align: right;\">\n",
       "      <th></th>\n",
       "      <th>news</th>\n",
       "      <th>label</th>\n",
       "      <th>news_length</th>\n",
       "      <th>clean_news_length</th>\n",
       "    </tr>\n",
       "  </thead>\n",
       "  <tbody>\n",
       "    <tr>\n",
       "      <th>0</th>\n",
       "      <td>washington sonni perdu tell georgian grow wear...</td>\n",
       "      <td>0</td>\n",
       "      <td>7936</td>\n",
       "      <td>4644</td>\n",
       "    </tr>\n",
       "    <tr>\n",
       "      <th>1</th>\n",
       "      <td>houston venezuela plan tactic approach design ...</td>\n",
       "      <td>0</td>\n",
       "      <td>6112</td>\n",
       "      <td>3725</td>\n",
       "    </tr>\n",
       "    <tr>\n",
       "      <th>2</th>\n",
       "      <td>sunday abc week discuss republican plan repeal...</td>\n",
       "      <td>0</td>\n",
       "      <td>425</td>\n",
       "      <td>238</td>\n",
       "    </tr>\n",
       "    <tr>\n",
       "      <th>3</th>\n",
       "      <td>augusta beleagu republican governor main seem ...</td>\n",
       "      <td>0</td>\n",
       "      <td>6516</td>\n",
       "      <td>3809</td>\n",
       "    </tr>\n",
       "    <tr>\n",
       "      <th>4</th>\n",
       "      <td>finian cunningham written extens intern affair...</td>\n",
       "      <td>1</td>\n",
       "      <td>9164</td>\n",
       "      <td>5786</td>\n",
       "    </tr>\n",
       "  </tbody>\n",
       "</table>\n",
       "</div>"
      ],
      "text/plain": [
       "                                                news  label  news_length  \\\n",
       "0  washington sonni perdu tell georgian grow wear...      0         7936   \n",
       "1  houston venezuela plan tactic approach design ...      0         6112   \n",
       "2  sunday abc week discuss republican plan repeal...      0          425   \n",
       "3  augusta beleagu republican governor main seem ...      0         6516   \n",
       "4  finian cunningham written extens intern affair...      1         9164   \n",
       "\n",
       "   clean_news_length  \n",
       "0               4644  \n",
       "1               3725  \n",
       "2                238  \n",
       "3               3809  \n",
       "4               5786  "
      ]
     },
     "execution_count": 32,
     "metadata": {},
     "output_type": "execute_result"
    }
   ],
   "source": [
    "data.head()"
   ]
  },
  {
   "cell_type": "markdown",
   "metadata": {},
   "source": [
    "## Converting the text into vectors using TF-IDF Vectorizer"
   ]
  },
  {
   "cell_type": "code",
   "execution_count": 33,
   "metadata": {},
   "outputs": [],
   "source": [
    "# Importing the library and converting it into vectors\n",
    "from sklearn.feature_extraction.text import TfidfVectorizer\n",
    "tf_vec = TfidfVectorizer()\n",
    "\n",
    "#Independent Features\n",
    "X = tf_vec.fit_transform(data['news'])"
   ]
  },
  {
   "cell_type": "code",
   "execution_count": 34,
   "metadata": {},
   "outputs": [],
   "source": [
    "# Dependent Feature\n",
    "y = data['label']"
   ]
  },
  {
   "cell_type": "code",
   "execution_count": 35,
   "metadata": {},
   "outputs": [],
   "source": [
    "## Divide the dataset into Train and Test\n",
    "\n",
    "from sklearn.model_selection import train_test_split\n",
    "\n",
    "X_train,x_test,Y_train,y_test = train_test_split(X,y,random_state=42)"
   ]
  },
  {
   "cell_type": "markdown",
   "metadata": {},
   "source": [
    "## Multinomial NB"
   ]
  },
  {
   "cell_type": "code",
   "execution_count": 36,
   "metadata": {},
   "outputs": [
    {
     "name": "stdout",
     "output_type": "stream",
     "text": [
      "Final score => 0.8930841841649008\n",
      "\n",
      " [[2463  163]\n",
      " [ 392 2173]]\n"
     ]
    },
    {
     "data": {
      "image/png": "[encoded data removed]",
      "text/plain": [
       "<Figure size 432x288 with 1 Axes>"
      ]
     },
     "metadata": {
      "needs_background": "light"
     },
     "output_type": "display_data"
    },
    {
     "name": "stdout",
     "output_type": "stream",
     "text": [
      "              precision    recall  f1-score   support\n",
      "\n",
      "           0       0.86      0.94      0.90      2626\n",
      "           1       0.93      0.85      0.89      2565\n",
      "\n",
      "    accuracy                           0.89      5191\n",
      "   macro avg       0.90      0.89      0.89      5191\n",
      "weighted avg       0.90      0.89      0.89      5191\n",
      "\n"
     ]
    }
   ],
   "source": [
    "# Importing the library and Training the model\n",
    "from sklearn.naive_bayes import MultinomialNB\n",
    "naive = MultinomialNB(alpha=0)\n",
    "naive.fit(X_train,Y_train)\n",
    "\n",
    "#Making Prediction\n",
    "y_pred = naive.predict(x_test)\n",
    "\n",
    "#Printing the Metrics\n",
    "from sklearn.metrics import accuracy_score, confusion_matrix,classification_report\n",
    "#Accuracy Score\n",
    "print('Final score =>', accuracy_score(y_test,y_pred))\n",
    "\n",
    "#Confusion Matrix\n",
    "conf_mat = confusion_matrix(y_test,y_pred)\n",
    "print(\"\\n\",conf_mat)\n",
    "\n",
    "# plot confusion matrix heatmap\n",
    "conf_mat = confusion_matrix(y_test,y_pred)\n",
    "\n",
    "ax=plt.subplot()\n",
    "\n",
    "sns.heatmap(conf_mat,annot=True,ax=ax,linewidths=5,linecolor='r',center=0,fmt='.2f',cbar=False,cmap = 'Wistia_r')\n",
    "\n",
    "ax.set_xlabel('Predicted Labels');ax.set_ylabel('True Labels')\n",
    "\n",
    "ax.set_title('Confusion matrix')\n",
    "ax.xaxis.set_ticklabels(['Real','Fake'])\n",
    "ax.yaxis.set_ticklabels(['Real','Fake'])\n",
    "plt.show()\n",
    "\n",
    "#Classification Report\n",
    "print(classification_report(y_test, y_pred))"
   ]
  },
  {
   "cell_type": "markdown",
   "metadata": {},
   "source": [
    "## Passive Aggressive Classifier Algorithm"
   ]
  },
  {
   "cell_type": "code",
   "execution_count": 37,
   "metadata": {},
   "outputs": [
    {
     "name": "stdout",
     "output_type": "stream",
     "text": [
      "Accuracy: 0.957\n",
      "\n",
      " [[2511  115]\n",
      " [ 107 2458]]\n"
     ]
    },
    {
     "data": {
      "image/png": "[encoded data removed]",
      "text/plain": [
       "<Figure size 432x288 with 1 Axes>"
      ]
     },
     "metadata": {
      "needs_background": "light"
     },
     "output_type": "display_data"
    },
    {
     "name": "stdout",
     "output_type": "stream",
     "text": [
      "              precision    recall  f1-score   support\n",
      "\n",
      "           0       0.96      0.96      0.96      2626\n",
      "           1       0.96      0.96      0.96      2565\n",
      "\n",
      "    accuracy                           0.96      5191\n",
      "   macro avg       0.96      0.96      0.96      5191\n",
      "weighted avg       0.96      0.96      0.96      5191\n",
      "\n"
     ]
    }
   ],
   "source": [
    "# Importing the Linrary\n",
    "from sklearn.linear_model import PassiveAggressiveClassifier\n",
    "pac = PassiveAggressiveClassifier( validation_fraction=0.25,C=3, max_iter=1000, random_state=42, \n",
    "                                   n_iter_no_change=8,\n",
    "                                   shuffle=True,\n",
    "                                   loss='hinge',\n",
    "                                   n_jobs=-1)\n",
    "\n",
    "#Training the model\n",
    "pac.fit(X_train,Y_train)\n",
    "\n",
    "#Makeing prediction\n",
    "pred = pac.predict(x_test)\n",
    "\n",
    "#Accuracy\n",
    "score = accuracy_score(y_test,pred)\n",
    "print(\"Accuracy: %0.3f\" %score)\n",
    "\n",
    "#Confusion Matrix\n",
    "cm = confusion_matrix(y_test,pred)\n",
    "print('\\n',cm)\n",
    "\n",
    "# plot confusion matrix heatmap\n",
    "conf_mat = confusion_matrix(y_test,pred)\n",
    "\n",
    "ax=plt.subplot()\n",
    "\n",
    "sns.heatmap(conf_mat,annot=True,ax=ax,linewidths=5,linecolor='r',center=0,fmt='.2f',cbar=False,cmap = 'Wistia_r')\n",
    "\n",
    "ax.set_xlabel('Predicted Labels');ax.set_ylabel('True Labels')\n",
    "\n",
    "ax.set_title('Confusion matrix')\n",
    "ax.xaxis.set_ticklabels(['Real','Fake'])\n",
    "ax.yaxis.set_ticklabels(['Real','Fake'])\n",
    "plt.show()\n",
    "\n",
    "#Classification Report\n",
    "print(classification_report(y_test, pred))"
   ]
  },
  {
   "cell_type": "code",
   "execution_count": 38,
   "metadata": {},
   "outputs": [],
   "source": [
    "# Get Features names for passive aggressive classifier\n",
    "feature_names = tf_vec.get_feature_names()"
   ]
  },
  {
   "cell_type": "code",
   "execution_count": 39,
   "metadata": {},
   "outputs": [
    {
     "data": {
      "text/plain": [
       "array([ 0.2646885 ,  0.31069062, -0.08176454, ...,  0.01447613,\n",
       "       -0.03559581,  0.        ])"
      ]
     },
     "execution_count": 39,
     "metadata": {},
     "output_type": "execute_result"
    }
   ],
   "source": [
    "pac.coef_[0]"
   ]
  },
  {
   "cell_type": "code",
   "execution_count": 40,
   "metadata": {},
   "outputs": [
    {
     "data": {
      "text/plain": [
       "[(8.817834015370924, 'anti'),\n",
       " (7.252731628158394, '2016'),\n",
       " (7.076581638046668, 'octob'),\n",
       " (6.980707120561513, 'non'),\n",
       " (6.409612468781956, 'novemb'),\n",
       " (6.0580801925102925, 'self'),\n",
       " (6.0334057142160615, 'co'),\n",
       " (4.99764215568233, 'share'),\n",
       " (4.877093686416111, 'hillari'),\n",
       " (4.84505884737072, 'old'),\n",
       " (4.472384273871379, 'al'),\n",
       " (4.302771677997087, 'via'),\n",
       " (4.2400223614111585, 'snip'),\n",
       " (4.209187185186815, 'howev'),\n",
       " (4.144743633855878, 'sourc'),\n",
       " (4.116899981344595, 'comment'),\n",
       " (4.087155053370935, 'articl'),\n",
       " (3.95747414264031, 'us'),\n",
       " (3.9082480699458535, '11'),\n",
       " (3.6788016747106806, 'print')]"
      ]
     },
     "execution_count": 40,
     "metadata": {},
     "output_type": "execute_result"
    }
   ],
   "source": [
    "#  Seeing the Most real words in our news column\n",
    "sorted(zip(pac.coef_[0], feature_names), reverse=True)[:20]"
   ]
  },
  {
   "cell_type": "code",
   "execution_count": 41,
   "metadata": {},
   "outputs": [
    {
     "data": {
      "text/plain": [
       "[(-8.902656271927336, 'breitbart'),\n",
       " (-8.546319805015713, 'twitter'),\n",
       " (-7.98195340662176, 'said'),\n",
       " (-6.511801062394126, 'mr'),\n",
       " (-6.4594848345113345, '2017'),\n",
       " (-5.2407124254976, 'follow'),\n",
       " (-5.131521803708904, 'ms'),\n",
       " (-4.222305387847402, 'saturday'),\n",
       " (-4.064947221097855, 'inaugur'),\n",
       " (-3.979230586599701, 'mrs'),\n",
       " (-3.8220226995979134, 'jeff'),\n",
       " (-3.75807092962717, 'sunday'),\n",
       " (-3.3625275456767607, 'administr'),\n",
       " (-3.360501310211567, 'milo'),\n",
       " (-3.2505218607971917, 'pamkeynen'),\n",
       " (-3.2199340654011084, 'app'),\n",
       " (-3.1718210779371057, 'march'),\n",
       " (-3.1249780202138653, 'macron'),\n",
       " (-3.092384573538873, 'mondal'),\n",
       " (-3.0658831975487395, 'dr')]"
      ]
     },
     "execution_count": 41,
     "metadata": {},
     "output_type": "execute_result"
    }
   ],
   "source": [
    "### Seeing the Most fake words in our news column\n",
    "sorted(zip(pac.coef_[0], feature_names))[:20]"
   ]
  },
  {
   "cell_type": "markdown",
   "metadata": {},
   "source": [
    "## Converting the Text using HashingVectorizer"
   ]
  },
  {
   "cell_type": "code",
   "execution_count": 42,
   "metadata": {},
   "outputs": [],
   "source": [
    "# Importing the library and converting it into vectors\n",
    "from sklearn.feature_extraction.text import HashingVectorizer\n",
    "hs_vectorizer=HashingVectorizer(n_features=30000, binary=bool)\n",
    "\n",
    "# Independent Features\n",
    "X = hs_vectorizer.fit_transform(data['news']).toarray()"
   ]
  },
  {
   "cell_type": "code",
   "execution_count": 43,
   "metadata": {},
   "outputs": [
    {
     "data": {
      "text/plain": [
       "(20761, 30000)"
      ]
     },
     "execution_count": 43,
     "metadata": {},
     "output_type": "execute_result"
    }
   ],
   "source": [
    "#Checking the shape of the independent features\n",
    "X.shape"
   ]
  },
  {
   "cell_type": "code",
   "execution_count": 44,
   "metadata": {},
   "outputs": [
    {
     "data": {
      "text/plain": [
       "array([[0., 0., 0., ..., 0., 0., 0.],\n",
       "       [0., 0., 0., ..., 0., 0., 0.],\n",
       "       [0., 0., 0., ..., 0., 0., 0.],\n",
       "       ...,\n",
       "       [0., 0., 0., ..., 0., 0., 0.],\n",
       "       [0., 0., 0., ..., 0., 0., 0.],\n",
       "       [0., 0., 0., ..., 0., 0., 0.]])"
      ]
     },
     "execution_count": 44,
     "metadata": {},
     "output_type": "execute_result"
    }
   ],
   "source": [
    "X"
   ]
  },
  {
   "cell_type": "code",
   "execution_count": 45,
   "metadata": {},
   "outputs": [],
   "source": [
    "# Dependent Features\n",
    "y = data['label']"
   ]
  },
  {
   "cell_type": "code",
   "execution_count": 46,
   "metadata": {},
   "outputs": [],
   "source": [
    "## Divide the dataset into Train and Test\n",
    "from sklearn.model_selection import train_test_split\n",
    "X_train, X_test, y_train, y_test = train_test_split(X, y, test_size=0.30, random_state=0)"
   ]
  },
  {
   "cell_type": "code",
   "execution_count": 47,
   "metadata": {},
   "outputs": [
    {
     "name": "stdout",
     "output_type": "stream",
     "text": [
      "Final score => 0.8741371006582116\n"
     ]
    },
    {
     "data": {
      "image/png": "[encoded data removed]",
      "text/plain": [
       "<Figure size 432x288 with 1 Axes>"
      ]
     },
     "metadata": {
      "needs_background": "light"
     },
     "output_type": "display_data"
    },
    {
     "name": "stdout",
     "output_type": "stream",
     "text": [
      "              precision    recall  f1-score   support\n",
      "\n",
      "           0       0.86      0.89      0.87      3086\n",
      "           1       0.89      0.86      0.87      3143\n",
      "\n",
      "    accuracy                           0.87      6229\n",
      "   macro avg       0.87      0.87      0.87      6229\n",
      "weighted avg       0.87      0.87      0.87      6229\n",
      "\n"
     ]
    }
   ],
   "source": [
    "# Train the model\n",
    "from sklearn.naive_bayes import MultinomialNB\n",
    "naive = MultinomialNB(alpha=0)\n",
    "naive.fit(X_train,y_train)\n",
    "\n",
    "#Making Prediction\n",
    "y_pred = naive.predict(X_test)\n",
    "\n",
    "#Printing the Metrics\n",
    "from sklearn.metrics import accuracy_score, confusion_matrix,classification_report\n",
    "#Accuracy Score\n",
    "print('Final score =>', accuracy_score(y_test,y_pred))\n",
    "\n",
    "# plot confusion matrix heatmap\n",
    "conf_mat = confusion_matrix(y_test,y_pred)\n",
    "\n",
    "ax=plt.subplot()\n",
    "\n",
    "sns.heatmap(conf_mat,annot=True,ax=ax,linewidths=5,linecolor='r',center=0,fmt='.2f',cbar=False,cmap = 'Wistia_r')\n",
    "\n",
    "ax.set_xlabel('Predicted Labels');ax.set_ylabel('True Labels')\n",
    "\n",
    "ax.set_title('Confusion matrix')\n",
    "ax.xaxis.set_ticklabels(['Real','Fake'])\n",
    "ax.yaxis.set_ticklabels(['Real','Fake'])\n",
    "plt.show()\n",
    "\n",
    "#Classification Report\n",
    "print(classification_report(y_test, y_pred))"
   ]
  },
  {
   "cell_type": "markdown",
   "metadata": {},
   "source": [
    "## Passive Aggressive Classifier Algorithm"
   ]
  },
  {
   "cell_type": "code",
   "execution_count": 48,
   "metadata": {},
   "outputs": [
    {
     "name": "stdout",
     "output_type": "stream",
     "text": [
      "Final score => 0.9569754374698989\n"
     ]
    },
    {
     "data": {
      "image/png": "[encoded data removed]",
      "text/plain": [
       "<Figure size 432x288 with 1 Axes>"
      ]
     },
     "metadata": {
      "needs_background": "light"
     },
     "output_type": "display_data"
    },
    {
     "name": "stdout",
     "output_type": "stream",
     "text": [
      "              precision    recall  f1-score   support\n",
      "\n",
      "           0       0.96      0.95      0.96      3086\n",
      "           1       0.95      0.96      0.96      3143\n",
      "\n",
      "    accuracy                           0.96      6229\n",
      "   macro avg       0.96      0.96      0.96      6229\n",
      "weighted avg       0.96      0.96      0.96      6229\n",
      "\n"
     ]
    }
   ],
   "source": [
    "# Train the model\n",
    "from sklearn.linear_model import PassiveAggressiveClassifier\n",
    "pac_model = PassiveAggressiveClassifier( validation_fraction=0.25,C=3, max_iter=1000, random_state=42, \n",
    "                                         n_iter_no_change=8,\n",
    "                                         shuffle=True,\n",
    "                                         loss='hinge',\n",
    "                                         n_jobs=-1)\n",
    "pac_model.fit(X_train,y_train)\n",
    "\n",
    "#Making Prediction\n",
    "pred = pac_model.predict(X_test)\n",
    "\n",
    "#Printing the Metrics\n",
    "from sklearn.metrics import accuracy_score, confusion_matrix,classification_report\n",
    "#Accuracy Score\n",
    "print('Final score =>', accuracy_score(y_test,pred))\n",
    "\n",
    "# plot confusion matrix heatmap\n",
    "conf_mat = confusion_matrix(y_test,pred)\n",
    "\n",
    "ax=plt.subplot()\n",
    "\n",
    "sns.heatmap(conf_mat,annot=True,ax=ax,linewidths=5,linecolor='r',center=0,fmt='.2f',cbar=False,cmap = 'Accent')\n",
    "\n",
    "ax.set_xlabel('Predicted Labels');ax.set_ylabel('True Labels')\n",
    "\n",
    "ax.set_title('Confusion matrix')\n",
    "ax.xaxis.set_ticklabels(['Real','Fake'])\n",
    "ax.yaxis.set_ticklabels(['Real','Fake'])\n",
    "plt.show()\n",
    "\n",
    "#Classification Report\n",
    "print(classification_report(y_test,pred))"
   ]
  },
  {
   "cell_type": "markdown",
   "metadata": {},
   "source": [
    "## Saving the best Model"
   ]
  },
  {
   "cell_type": "code",
   "execution_count": 49,
   "metadata": {},
   "outputs": [
    {
     "data": {
      "text/plain": [
       "['Fake_News_Detection_TFIDF.csv']"
      ]
     },
     "execution_count": 49,
     "metadata": {},
     "output_type": "execute_result"
    }
   ],
   "source": [
    "#Saving this model that is Passive Aggressive Classifier\n",
    "import joblib\n",
    "\n",
    "#Save the model as a pickle in a file\n",
    "joblib.dump(pac,'Fake_News_Detection_TFIDF.csv')"
   ]
  }
 ],
 "metadata": {
  "kernelspec": {
   "display_name": "Python 3",
   "language": "python",
   "name": "python3"
  },
  "language_info": {
   "codemirror_mode": {
    "name": "ipython",
    "version": 3
   },
   "file_extension": ".py",
   "mimetype": "text/x-python",
   "name": "python",
   "nbconvert_exporter": "python",
   "pygments_lexer": "ipython3",
   "version": "3.7.6"
  }
 },
 "nbformat": 4,
 "nbformat_minor": 4
}
